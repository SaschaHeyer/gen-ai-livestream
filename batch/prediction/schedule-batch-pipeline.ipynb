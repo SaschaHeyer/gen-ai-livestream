{
 "cells": [
  {
   "cell_type": "code",
   "execution_count": null,
   "metadata": {},
   "outputs": [],
   "source": [
    "!pip install kfp\n",
    "!pip install google-cloud-pipeline-components"
   ]
  },
  {
   "cell_type": "code",
   "execution_count": 19,
   "metadata": {},
   "outputs": [],
   "source": [
    "import kfp\n",
    "from google.cloud import aiplatform\n",
    "from kfp.v2.dsl import component\n",
    "from kfp.v2.dsl import pipeline\n",
    "from kfp.v2 import compiler\n",
    "from google.cloud.aiplatform import pipeline_jobs"
   ]
  },
  {
   "cell_type": "code",
   "execution_count": 7,
   "metadata": {},
   "outputs": [],
   "source": [
    "PROJECT_ID = \"sascha-playground-doit\"\n",
    "PIPELINE_ROOT = \"gs://doit-vertex-demo/\""
   ]
  },
  {
   "cell_type": "code",
   "execution_count": 8,
   "metadata": {},
   "outputs": [],
   "source": [
    "aiplatform.init(project=PROJECT_ID,\n",
    "                location='us-central1')"
   ]
  },
  {
   "cell_type": "code",
   "execution_count": 36,
   "metadata": {},
   "outputs": [],
   "source": [
    "@component(\n",
    "    packages_to_install=[\"google-cloud-aiplatform\"]\n",
    ")\n",
    "def batch_predict():\n",
    "    from google.cloud import aiplatform\n",
    "    model = aiplatform.Model('projects/sascha-playground-doit/locations/us-central1/models/6091379080274378752')\n",
    "\n",
    "    model.batch_predict(\n",
    "    job_display_name=f\"batch_predict_churn\",\n",
    "    machine_type=\"n1-standard-4\",\n",
    "    starting_replica_count=2,\n",
    "\n",
    "    instances_format=\"bigquery\",\n",
    "    predictions_format=\"bigquery\",\n",
    "    bigquery_source='bq://sascha-playground-doit.churn_prediction.preprocessed_data',\n",
    "    bigquery_destination_prefix=\"bq://sascha-playground-doit.batch\",\n",
    ")"
   ]
  },
  {
   "cell_type": "code",
   "execution_count": 37,
   "metadata": {},
   "outputs": [],
   "source": [
    "#you can use the following code to create a reference to a model if the model is already uploaded\n",
    "model = aiplatform.Model('projects/sascha-playground-doit/locations/us-central1/models/6091379080274378752')"
   ]
  },
  {
   "cell_type": "code",
   "execution_count": 38,
   "metadata": {},
   "outputs": [],
   "source": [
    "@pipeline(name=\"basic-pipeline\",\n",
    "          pipeline_root=PIPELINE_ROOT + \"basic-pipeline\")\n",
    "def basic_pipeline():\n",
    "    batch_predict_task = batch_predict()"
   ]
  },
  {
   "cell_type": "code",
   "execution_count": 39,
   "metadata": {},
   "outputs": [],
   "source": [
    "compiler.Compiler().compile(\n",
    "pipeline_func=basic_pipeline, package_path=\"basic_pipeline.json\"\n",
    ")"
   ]
  },
  {
   "cell_type": "code",
   "execution_count": 40,
   "metadata": {},
   "outputs": [],
   "source": [
    "job = pipeline_jobs.PipelineJob(\n",
    "    display_name=\"basic-pipeline\",\n",
    "    template_path=\"basic_pipeline.json\"\n",
    ")"
   ]
  },
  {
   "cell_type": "code",
   "execution_count": 41,
   "metadata": {},
   "outputs": [],
   "source": [
    "job.run(sync=False)"
   ]
  },
  {
   "cell_type": "code",
   "execution_count": 26,
   "metadata": {},
   "outputs": [
    {
     "name": "stdout",
     "output_type": "stream",
     "text": [
      "Creating PipelineJobSchedule\n",
      "PipelineJobSchedule created. Resource name: projects/234439745674/locations/us-central1/schedules/6459591230765400064\n",
      "To use this PipelineJobSchedule in another session:\n",
      "schedule = aiplatform.PipelineJobSchedule.get('projects/234439745674/locations/us-central1/schedules/6459591230765400064')\n",
      "View Schedule:\n",
      "https://console.cloud.google.com/vertex-ai/locations/us-central1/pipelines/schedules/6459591230765400064?project=234439745674\n"
     ]
    },
    {
     "data": {
      "text/plain": [
       "<google.cloud.aiplatform.pipeline_job_schedules.PipelineJobSchedule object at 0x12e75f690> \n",
       "resource name: projects/234439745674/locations/us-central1/schedules/6459591230765400064"
      ]
     },
     "execution_count": 26,
     "metadata": {},
     "output_type": "execute_result"
    }
   ],
   "source": [
    "    # Schedule the pipeline job\n",
    "job.create_schedule(\n",
    "        display_name=f\"batch-churn-predict-schedule\",\n",
    "        cron=\"0 0 * * *\"\n",
    "    )"
   ]
  },
  {
   "cell_type": "code",
   "execution_count": null,
   "metadata": {},
   "outputs": [],
   "source": []
  }
 ],
 "metadata": {
  "kernelspec": {
   "display_name": "dev",
   "language": "python",
   "name": "python3"
  },
  "language_info": {
   "codemirror_mode": {
    "name": "ipython",
    "version": 3
   },
   "file_extension": ".py",
   "mimetype": "text/x-python",
   "name": "python",
   "nbconvert_exporter": "python",
   "pygments_lexer": "ipython3",
   "version": "3.11.5"
  }
 },
 "nbformat": 4,
 "nbformat_minor": 2
}
