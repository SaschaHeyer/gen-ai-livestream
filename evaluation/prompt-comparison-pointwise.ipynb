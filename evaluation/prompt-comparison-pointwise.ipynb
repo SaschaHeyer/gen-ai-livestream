{
 "cells": [
  {
   "cell_type": "code",
   "execution_count": 1,
   "id": "eb144eb9",
   "metadata": {},
   "outputs": [],
   "source": [
    "import pandas as pd\n",
    "from vertexai.evaluation import EvalTask\n",
    "from vertexai.generative_models import GenerativeModel, HarmBlockThreshold, HarmCategory\n",
    "from vertexai.preview.evaluation import notebook_utils\n",
    "\n",
    "\n",
    "instruction = \"Summarize the following article\"\n",
    "\n",
    "context = [\n",
    "    \"To make a classic spaghetti carbonara, start by bringing a large pot of salted water to a boil. While the water is heating up, cook pancetta or guanciale in a skillet with olive oil over medium heat until it's crispy and golden brown. Once the pancetta is done, remove it from the skillet and set it aside. In the same skillet, whisk together eggs, grated Parmesan cheese, and black pepper to make the sauce. When the pasta is cooked al dente, drain it and immediately toss it in the skillet with the egg mixture, adding a splash of the pasta cooking water to create a creamy sauce.\",\n",
    "    \"Preparing a perfect risotto requires patience and attention to detail. Begin by heating butter in a large, heavy-bottomed pot over medium heat. Add finely chopped onions and minced garlic to the pot, and cook until they're soft and translucent, about 5 minutes. Next, add Arborio rice to the pot and cook, stirring constantly, until the grains are coated with the butter and begin to toast slightly. Pour in a splash of white wine and cook until it's absorbed. From there, gradually add hot chicken or vegetable broth to the rice, stirring frequently, until the risotto is creamy and the rice is tender with a slight bite.\",\n",
    "    \"For a flavorful grilled steak, start by choosing a well-marbled cut of beef like ribeye or New York strip. Season the steak generously with kosher salt and freshly ground black pepper on both sides, pressing the seasoning into the meat. Preheat a grill to high heat and brush the grates with oil to prevent sticking. Place the seasoned steak on the grill and cook for about 4-5 minutes on each side for medium-rare, or adjust the cooking time to your desired level of doneness. Let the steak rest for a few minutes before slicing against the grain and serving.\",\n",
    "    \"Creating a creamy homemade tomato soup is a comforting and simple process. Begin by heating olive oil in a large pot over medium heat. Add diced onions and minced garlic to the pot and cook until they're soft and fragrant. Next, add chopped fresh tomatoes, chicken or vegetable broth, and a sprig of fresh basil to the pot. Simmer the soup for about 20-30 minutes, or until the tomatoes are tender and falling apart. Remove the basil sprig and use an immersion blender to puree the soup until smooth. Season with salt and pepper to taste before serving.\",\n",
    "    \"To bake a decadent chocolate cake from scratch, start by preheating your oven to 350°F (175°C) and greasing and flouring two 9-inch round cake pans. In a large mixing bowl, cream together softened butter and granulated sugar until light and fluffy. Beat in eggs one at a time, making sure each egg is fully incorporated before adding the next. In a separate bowl, sift together all-purpose flour, cocoa powder, baking powder, baking soda, and salt. Divide the batter evenly between the prepared cake pans and bake for 25-30 minutes, or until a toothpick inserted into the center comes out clean.\",\n",
    "]\n",
    "\n",
    "reference = [\n",
    "    \"The process of making spaghetti carbonara involves boiling pasta, crisping pancetta or guanciale, whisking together eggs and Parmesan cheese, and tossing everything together to create a creamy sauce.\",\n",
    "    \"Preparing risotto entails sautéing onions and garlic, toasting Arborio rice, adding wine and broth gradually, and stirring until creamy and tender.\",\n",
    "    \"Grilling a flavorful steak involves seasoning generously, preheating the grill, cooking to desired doneness, and letting it rest before slicing.\",\n",
    "    \"Creating homemade tomato soup includes sautéing onions and garlic, simmering with tomatoes and broth, pureeing until smooth, and seasoning to taste.\",\n",
    "    \"Baking a decadent chocolate cake requires creaming butter and sugar, beating in eggs and alternating dry ingredients with buttermilk before baking until done.\",\n",
    "]\n",
    "\n",
    "eval_dataset = pd.DataFrame(\n",
    "    {\n",
    "        \"context\": context,\n",
    "        \"reference\": reference,\n",
    "        \"instruction\": [instruction] * len(context),\n",
    "    }\n",
    ")\n",
    "\n",
    "prompt_templates = [\n",
    "    \"Instruction: {instruction}. Article: {context}. Summary:\",\n",
    "    \"Article: {context}. Complete this task: {instruction}, in one sentence. Summary:\",\n",
    "    \"Give me a TLDR. Here's an article: {context}. Summary:\",\n",
    "]\n",
    "\n",
    "generation_config = {\n",
    "    \"temperature\": 0.3,\n",
    "}\n",
    "\n",
    "safety_settings = {\n",
    "    HarmCategory.HARM_CATEGORY_UNSPECIFIED: HarmBlockThreshold.BLOCK_NONE,\n",
    "    HarmCategory.HARM_CATEGORY_DANGEROUS_CONTENT: HarmBlockThreshold.BLOCK_NONE,\n",
    "    HarmCategory.HARM_CATEGORY_HATE_SPEECH: HarmBlockThreshold.BLOCK_NONE,\n",
    "    HarmCategory.HARM_CATEGORY_HARASSMENT: HarmBlockThreshold.BLOCK_NONE,\n",
    "    HarmCategory.HARM_CATEGORY_SEXUALLY_EXPLICIT: HarmBlockThreshold.BLOCK_NONE,\n",
    "}\n",
    "\n",
    "gemini_model = GenerativeModel(\n",
    "    \"gemini-2.0-flash\",\n",
    "    generation_config=generation_config,\n",
    "    safety_settings=safety_settings,\n",
    ")\n",
    "\n",
    "experiment_name = \"eval-sdk-prompt-engineering\"\n",
    "\n",
    "# https://cloud.google.com/vertex-ai/generative-ai/docs/models/metrics-templates#overview\n",
    "metrics = [\n",
    "    \"fluency\", #https://cloud.google.com/vertex-ai/generative-ai/docs/models/metrics-templates#pointwise_fluency\n",
    "    \"coherence\",\n",
    "    \"groundedness\",\n",
    "    \"summarization_quality\",\n",
    "    \"verbosity\",\n",
    "]\n",
    "summarization_eval_task = EvalTask(\n",
    "    dataset=eval_dataset,\n",
    "    metrics=metrics,\n",
    "    experiment=experiment_name,\n",
    ")\n"
   ]
  },
  {
   "cell_type": "code",
   "execution_count": 2,
   "id": "f55e03da",
   "metadata": {},
   "outputs": [
    {
     "data": {
      "text/html": [
       "\n",
       "        \n",
       "    <link rel=\"stylesheet\" href=\"https://fonts.googleapis.com/icon?family=Material+Icons\">\n",
       "    <style>\n",
       "      .view-vertex-resource,\n",
       "      .view-vertex-resource:hover,\n",
       "      .view-vertex-resource:visited {\n",
       "        position: relative;\n",
       "        display: inline-flex;\n",
       "        flex-direction: row;\n",
       "        height: 32px;\n",
       "        padding: 0 12px;\n",
       "          margin: 4px 18px;\n",
       "        gap: 4px;\n",
       "        border-radius: 4px;\n",
       "\n",
       "        align-items: center;\n",
       "        justify-content: center;\n",
       "        background-color: rgb(255, 255, 255);\n",
       "        color: rgb(51, 103, 214);\n",
       "\n",
       "        font-family: Roboto,\"Helvetica Neue\",sans-serif;\n",
       "        font-size: 13px;\n",
       "        font-weight: 500;\n",
       "        text-transform: uppercase;\n",
       "        text-decoration: none !important;\n",
       "\n",
       "        transition: box-shadow 280ms cubic-bezier(0.4, 0, 0.2, 1) 0s;\n",
       "        box-shadow: 0px 3px 1px -2px rgba(0,0,0,0.2), 0px 2px 2px 0px rgba(0,0,0,0.14), 0px 1px 5px 0px rgba(0,0,0,0.12);\n",
       "      }\n",
       "      .view-vertex-resource:active {\n",
       "        box-shadow: 0px 5px 5px -3px rgba(0,0,0,0.2),0px 8px 10px 1px rgba(0,0,0,0.14),0px 3px 14px 2px rgba(0,0,0,0.12);\n",
       "      }\n",
       "      .view-vertex-resource:active .view-vertex-ripple::before {\n",
       "        position: absolute;\n",
       "        top: 0;\n",
       "        bottom: 0;\n",
       "        left: 0;\n",
       "        right: 0;\n",
       "        border-radius: 4px;\n",
       "        pointer-events: none;\n",
       "\n",
       "        content: '';\n",
       "        background-color: rgb(51, 103, 214);\n",
       "        opacity: 0.12;\n",
       "      }\n",
       "      .view-vertex-icon {\n",
       "        font-size: 18px;\n",
       "      }\n",
       "    </style>\n",
       "  \n",
       "        <a class=\"view-vertex-resource\" id=\"view-vertex-resource-abe78652-a0ad-4235-975d-2c2a42b7d98b\" href=\"#view-view-vertex-resource-abe78652-a0ad-4235-975d-2c2a42b7d98b\">\n",
       "          <span class=\"material-icons view-vertex-icon\">science</span>\n",
       "          <span>View Experiment</span>\n",
       "        </a>\n",
       "        \n",
       "        <script>\n",
       "          (function () {\n",
       "            const link = document.getElementById('view-vertex-resource-abe78652-a0ad-4235-975d-2c2a42b7d98b');\n",
       "            link.addEventListener('click', (e) => {\n",
       "              if (window.google?.colab?.openUrl) {\n",
       "                window.google.colab.openUrl('https://console.cloud.google.com/vertex-ai/experiments/locations/us-central1/experiments/eval-sdk-prompt-engineering/runs?project=sascha-playground-doit');\n",
       "              } else {\n",
       "                window.open('https://console.cloud.google.com/vertex-ai/experiments/locations/us-central1/experiments/eval-sdk-prompt-engineering/runs?project=sascha-playground-doit', '_blank');\n",
       "              }\n",
       "              e.stopPropagation();\n",
       "              e.preventDefault();\n",
       "            });\n",
       "          })();\n",
       "        </script>\n",
       "    "
      ],
      "text/plain": [
       "<IPython.core.display.HTML object>"
      ]
     },
     "metadata": {},
     "output_type": "display_data"
    },
    {
     "name": "stdout",
     "output_type": "stream",
     "text": [
      "Associating projects/234439745674/locations/us-central1/metadataStores/default/contexts/eval-sdk-prompt-engineering-eval-prompt-engineering-m8iszh42-prompt-0 to Experiment: eval-sdk-prompt-engineering\n"
     ]
    },
    {
     "data": {
      "text/html": [
       "\n",
       "        \n",
       "    <link rel=\"stylesheet\" href=\"https://fonts.googleapis.com/icon?family=Material+Icons\">\n",
       "    <style>\n",
       "      .view-vertex-resource,\n",
       "      .view-vertex-resource:hover,\n",
       "      .view-vertex-resource:visited {\n",
       "        position: relative;\n",
       "        display: inline-flex;\n",
       "        flex-direction: row;\n",
       "        height: 32px;\n",
       "        padding: 0 12px;\n",
       "          margin: 4px 18px;\n",
       "        gap: 4px;\n",
       "        border-radius: 4px;\n",
       "\n",
       "        align-items: center;\n",
       "        justify-content: center;\n",
       "        background-color: rgb(255, 255, 255);\n",
       "        color: rgb(51, 103, 214);\n",
       "\n",
       "        font-family: Roboto,\"Helvetica Neue\",sans-serif;\n",
       "        font-size: 13px;\n",
       "        font-weight: 500;\n",
       "        text-transform: uppercase;\n",
       "        text-decoration: none !important;\n",
       "\n",
       "        transition: box-shadow 280ms cubic-bezier(0.4, 0, 0.2, 1) 0s;\n",
       "        box-shadow: 0px 3px 1px -2px rgba(0,0,0,0.2), 0px 2px 2px 0px rgba(0,0,0,0.14), 0px 1px 5px 0px rgba(0,0,0,0.12);\n",
       "      }\n",
       "      .view-vertex-resource:active {\n",
       "        box-shadow: 0px 5px 5px -3px rgba(0,0,0,0.2),0px 8px 10px 1px rgba(0,0,0,0.14),0px 3px 14px 2px rgba(0,0,0,0.12);\n",
       "      }\n",
       "      .view-vertex-resource:active .view-vertex-ripple::before {\n",
       "        position: absolute;\n",
       "        top: 0;\n",
       "        bottom: 0;\n",
       "        left: 0;\n",
       "        right: 0;\n",
       "        border-radius: 4px;\n",
       "        pointer-events: none;\n",
       "\n",
       "        content: '';\n",
       "        background-color: rgb(51, 103, 214);\n",
       "        opacity: 0.12;\n",
       "      }\n",
       "      .view-vertex-icon {\n",
       "        font-size: 18px;\n",
       "      }\n",
       "    </style>\n",
       "  \n",
       "        <a class=\"view-vertex-resource\" id=\"view-vertex-resource-29510393-83f5-4814-8a35-3808183cf527\" href=\"#view-view-vertex-resource-29510393-83f5-4814-8a35-3808183cf527\">\n",
       "          <span class=\"material-icons view-vertex-icon\">science</span>\n",
       "          <span>View Experiment Run</span>\n",
       "        </a>\n",
       "        \n",
       "        <script>\n",
       "          (function () {\n",
       "            const link = document.getElementById('view-vertex-resource-29510393-83f5-4814-8a35-3808183cf527');\n",
       "            link.addEventListener('click', (e) => {\n",
       "              if (window.google?.colab?.openUrl) {\n",
       "                window.google.colab.openUrl('https://console.cloud.google.com/vertex-ai/experiments/locations/us-central1/experiments/eval-sdk-prompt-engineering/runs/eval-sdk-prompt-engineering-eval-prompt-engineering-m8iszh42-prompt-0?project=sascha-playground-doit');\n",
       "              } else {\n",
       "                window.open('https://console.cloud.google.com/vertex-ai/experiments/locations/us-central1/experiments/eval-sdk-prompt-engineering/runs/eval-sdk-prompt-engineering-eval-prompt-engineering-m8iszh42-prompt-0?project=sascha-playground-doit', '_blank');\n",
       "              }\n",
       "              e.stopPropagation();\n",
       "              e.preventDefault();\n",
       "            });\n",
       "          })();\n",
       "        </script>\n",
       "    "
      ],
      "text/plain": [
       "<IPython.core.display.HTML object>"
      ]
     },
     "metadata": {},
     "output_type": "display_data"
    },
    {
     "name": "stdout",
     "output_type": "stream",
     "text": [
      "Logging Eval Experiment metadata: {'prompt_template': 'Instruction: {instruction}. Article: {context}. Summary:', 'model_name': 'publishers/google/models/gemini-2.0-flash', 'temperature': 0.3, 'HARM_CATEGORY_UNSPECIFIED': 'BLOCK_NONE', 'HARM_CATEGORY_DANGEROUS_CONTENT': 'BLOCK_NONE', 'HARM_CATEGORY_HATE_SPEECH': 'BLOCK_NONE', 'HARM_CATEGORY_HARASSMENT': 'BLOCK_NONE', 'HARM_CATEGORY_SEXUALLY_EXPLICIT': 'BLOCK_NONE'}\n",
      "Assembling prompts from the `prompt_template`. The `prompt` column in the `EvalResult.metrics_table` has the assembled prompts used for model response generation.\n",
      "Generating a total of 5 responses from Gemini model gemini-2.0-flash.\n"
     ]
    },
    {
     "name": "stderr",
     "output_type": "stream",
     "text": [
      "100%|██████████| 5/5 [00:01<00:00,  2.55it/s]"
     ]
    },
    {
     "name": "stdout",
     "output_type": "stream",
     "text": [
      "All 5 responses are successfully generated from Gemini model gemini-2.0-flash.\n",
      "Multithreaded Batch Inference took: 2.0888872499999707 seconds.\n",
      "Computing metrics with a total of 25 Vertex Gen AI Evaluation Service API requests.\n"
     ]
    },
    {
     "name": "stderr",
     "output_type": "stream",
     "text": [
      "\n",
      "100%|██████████| 25/25 [00:06<00:00,  3.84it/s]"
     ]
    },
    {
     "name": "stdout",
     "output_type": "stream",
     "text": [
      "All 25 metric requests are successfully computed.\n",
      "Evaluation Took:6.519056584002101 seconds\n"
     ]
    },
    {
     "name": "stderr",
     "output_type": "stream",
     "text": [
      "\n"
     ]
    },
    {
     "data": {
      "text/html": [
       "\n",
       "        \n",
       "    <link rel=\"stylesheet\" href=\"https://fonts.googleapis.com/icon?family=Material+Icons\">\n",
       "    <style>\n",
       "      .view-vertex-resource,\n",
       "      .view-vertex-resource:hover,\n",
       "      .view-vertex-resource:visited {\n",
       "        position: relative;\n",
       "        display: inline-flex;\n",
       "        flex-direction: row;\n",
       "        height: 32px;\n",
       "        padding: 0 12px;\n",
       "          margin: 4px 18px;\n",
       "        gap: 4px;\n",
       "        border-radius: 4px;\n",
       "\n",
       "        align-items: center;\n",
       "        justify-content: center;\n",
       "        background-color: rgb(255, 255, 255);\n",
       "        color: rgb(51, 103, 214);\n",
       "\n",
       "        font-family: Roboto,\"Helvetica Neue\",sans-serif;\n",
       "        font-size: 13px;\n",
       "        font-weight: 500;\n",
       "        text-transform: uppercase;\n",
       "        text-decoration: none !important;\n",
       "\n",
       "        transition: box-shadow 280ms cubic-bezier(0.4, 0, 0.2, 1) 0s;\n",
       "        box-shadow: 0px 3px 1px -2px rgba(0,0,0,0.2), 0px 2px 2px 0px rgba(0,0,0,0.14), 0px 1px 5px 0px rgba(0,0,0,0.12);\n",
       "      }\n",
       "      .view-vertex-resource:active {\n",
       "        box-shadow: 0px 5px 5px -3px rgba(0,0,0,0.2),0px 8px 10px 1px rgba(0,0,0,0.14),0px 3px 14px 2px rgba(0,0,0,0.12);\n",
       "      }\n",
       "      .view-vertex-resource:active .view-vertex-ripple::before {\n",
       "        position: absolute;\n",
       "        top: 0;\n",
       "        bottom: 0;\n",
       "        left: 0;\n",
       "        right: 0;\n",
       "        border-radius: 4px;\n",
       "        pointer-events: none;\n",
       "\n",
       "        content: '';\n",
       "        background-color: rgb(51, 103, 214);\n",
       "        opacity: 0.12;\n",
       "      }\n",
       "      .view-vertex-icon {\n",
       "        font-size: 18px;\n",
       "      }\n",
       "    </style>\n",
       "  \n",
       "        <a class=\"view-vertex-resource\" id=\"view-vertex-resource-6ef14a97-8b3d-43ce-bba7-833c146179e6\" href=\"#view-view-vertex-resource-6ef14a97-8b3d-43ce-bba7-833c146179e6\">\n",
       "          <span class=\"material-icons view-vertex-icon\">bar_chart</span>\n",
       "          <span>View evaluation results</span>\n",
       "        </a>\n",
       "        \n",
       "        <script>\n",
       "          (function () {\n",
       "            const link = document.getElementById('view-vertex-resource-6ef14a97-8b3d-43ce-bba7-833c146179e6');\n",
       "            link.addEventListener('click', (e) => {\n",
       "              if (window.google?.colab?.openUrl) {\n",
       "                window.google.colab.openUrl('https://cloud.google.com/vertex-ai/generative-ai/docs/models/view-evaluation');\n",
       "              } else {\n",
       "                window.open('https://cloud.google.com/vertex-ai/generative-ai/docs/models/view-evaluation', '_blank');\n",
       "              }\n",
       "              e.stopPropagation();\n",
       "              e.preventDefault();\n",
       "            });\n",
       "          })();\n",
       "        </script>\n",
       "    "
      ],
      "text/plain": [
       "<IPython.core.display.HTML object>"
      ]
     },
     "metadata": {},
     "output_type": "display_data"
    },
    {
     "data": {
      "text/html": [
       "\n",
       "        \n",
       "    <link rel=\"stylesheet\" href=\"https://fonts.googleapis.com/icon?family=Material+Icons\">\n",
       "    <style>\n",
       "      .view-vertex-resource,\n",
       "      .view-vertex-resource:hover,\n",
       "      .view-vertex-resource:visited {\n",
       "        position: relative;\n",
       "        display: inline-flex;\n",
       "        flex-direction: row;\n",
       "        height: 32px;\n",
       "        padding: 0 12px;\n",
       "          margin: 4px 18px;\n",
       "        gap: 4px;\n",
       "        border-radius: 4px;\n",
       "\n",
       "        align-items: center;\n",
       "        justify-content: center;\n",
       "        background-color: rgb(255, 255, 255);\n",
       "        color: rgb(51, 103, 214);\n",
       "\n",
       "        font-family: Roboto,\"Helvetica Neue\",sans-serif;\n",
       "        font-size: 13px;\n",
       "        font-weight: 500;\n",
       "        text-transform: uppercase;\n",
       "        text-decoration: none !important;\n",
       "\n",
       "        transition: box-shadow 280ms cubic-bezier(0.4, 0, 0.2, 1) 0s;\n",
       "        box-shadow: 0px 3px 1px -2px rgba(0,0,0,0.2), 0px 2px 2px 0px rgba(0,0,0,0.14), 0px 1px 5px 0px rgba(0,0,0,0.12);\n",
       "      }\n",
       "      .view-vertex-resource:active {\n",
       "        box-shadow: 0px 5px 5px -3px rgba(0,0,0,0.2),0px 8px 10px 1px rgba(0,0,0,0.14),0px 3px 14px 2px rgba(0,0,0,0.12);\n",
       "      }\n",
       "      .view-vertex-resource:active .view-vertex-ripple::before {\n",
       "        position: absolute;\n",
       "        top: 0;\n",
       "        bottom: 0;\n",
       "        left: 0;\n",
       "        right: 0;\n",
       "        border-radius: 4px;\n",
       "        pointer-events: none;\n",
       "\n",
       "        content: '';\n",
       "        background-color: rgb(51, 103, 214);\n",
       "        opacity: 0.12;\n",
       "      }\n",
       "      .view-vertex-icon {\n",
       "        font-size: 18px;\n",
       "      }\n",
       "    </style>\n",
       "  \n",
       "        <a class=\"view-vertex-resource\" id=\"view-vertex-resource-539d442a-b3f6-46b2-88e8-5ddfa250e10c\" href=\"#view-view-vertex-resource-539d442a-b3f6-46b2-88e8-5ddfa250e10c\">\n",
       "          <span class=\"material-icons view-vertex-icon\">science</span>\n",
       "          <span>View Experiment</span>\n",
       "        </a>\n",
       "        \n",
       "        <script>\n",
       "          (function () {\n",
       "            const link = document.getElementById('view-vertex-resource-539d442a-b3f6-46b2-88e8-5ddfa250e10c');\n",
       "            link.addEventListener('click', (e) => {\n",
       "              if (window.google?.colab?.openUrl) {\n",
       "                window.google.colab.openUrl('https://console.cloud.google.com/vertex-ai/experiments/locations/us-central1/experiments/eval-sdk-prompt-engineering/runs?project=sascha-playground-doit');\n",
       "              } else {\n",
       "                window.open('https://console.cloud.google.com/vertex-ai/experiments/locations/us-central1/experiments/eval-sdk-prompt-engineering/runs?project=sascha-playground-doit', '_blank');\n",
       "              }\n",
       "              e.stopPropagation();\n",
       "              e.preventDefault();\n",
       "            });\n",
       "          })();\n",
       "        </script>\n",
       "    "
      ],
      "text/plain": [
       "<IPython.core.display.HTML object>"
      ]
     },
     "metadata": {},
     "output_type": "display_data"
    },
    {
     "name": "stdout",
     "output_type": "stream",
     "text": [
      "Associating projects/234439745674/locations/us-central1/metadataStores/default/contexts/eval-sdk-prompt-engineering-eval-prompt-engineering-m8iszh42-prompt-1 to Experiment: eval-sdk-prompt-engineering\n"
     ]
    },
    {
     "data": {
      "text/html": [
       "\n",
       "        \n",
       "    <link rel=\"stylesheet\" href=\"https://fonts.googleapis.com/icon?family=Material+Icons\">\n",
       "    <style>\n",
       "      .view-vertex-resource,\n",
       "      .view-vertex-resource:hover,\n",
       "      .view-vertex-resource:visited {\n",
       "        position: relative;\n",
       "        display: inline-flex;\n",
       "        flex-direction: row;\n",
       "        height: 32px;\n",
       "        padding: 0 12px;\n",
       "          margin: 4px 18px;\n",
       "        gap: 4px;\n",
       "        border-radius: 4px;\n",
       "\n",
       "        align-items: center;\n",
       "        justify-content: center;\n",
       "        background-color: rgb(255, 255, 255);\n",
       "        color: rgb(51, 103, 214);\n",
       "\n",
       "        font-family: Roboto,\"Helvetica Neue\",sans-serif;\n",
       "        font-size: 13px;\n",
       "        font-weight: 500;\n",
       "        text-transform: uppercase;\n",
       "        text-decoration: none !important;\n",
       "\n",
       "        transition: box-shadow 280ms cubic-bezier(0.4, 0, 0.2, 1) 0s;\n",
       "        box-shadow: 0px 3px 1px -2px rgba(0,0,0,0.2), 0px 2px 2px 0px rgba(0,0,0,0.14), 0px 1px 5px 0px rgba(0,0,0,0.12);\n",
       "      }\n",
       "      .view-vertex-resource:active {\n",
       "        box-shadow: 0px 5px 5px -3px rgba(0,0,0,0.2),0px 8px 10px 1px rgba(0,0,0,0.14),0px 3px 14px 2px rgba(0,0,0,0.12);\n",
       "      }\n",
       "      .view-vertex-resource:active .view-vertex-ripple::before {\n",
       "        position: absolute;\n",
       "        top: 0;\n",
       "        bottom: 0;\n",
       "        left: 0;\n",
       "        right: 0;\n",
       "        border-radius: 4px;\n",
       "        pointer-events: none;\n",
       "\n",
       "        content: '';\n",
       "        background-color: rgb(51, 103, 214);\n",
       "        opacity: 0.12;\n",
       "      }\n",
       "      .view-vertex-icon {\n",
       "        font-size: 18px;\n",
       "      }\n",
       "    </style>\n",
       "  \n",
       "        <a class=\"view-vertex-resource\" id=\"view-vertex-resource-68989d54-18bc-4a56-989d-a5e502f32564\" href=\"#view-view-vertex-resource-68989d54-18bc-4a56-989d-a5e502f32564\">\n",
       "          <span class=\"material-icons view-vertex-icon\">science</span>\n",
       "          <span>View Experiment Run</span>\n",
       "        </a>\n",
       "        \n",
       "        <script>\n",
       "          (function () {\n",
       "            const link = document.getElementById('view-vertex-resource-68989d54-18bc-4a56-989d-a5e502f32564');\n",
       "            link.addEventListener('click', (e) => {\n",
       "              if (window.google?.colab?.openUrl) {\n",
       "                window.google.colab.openUrl('https://console.cloud.google.com/vertex-ai/experiments/locations/us-central1/experiments/eval-sdk-prompt-engineering/runs/eval-sdk-prompt-engineering-eval-prompt-engineering-m8iszh42-prompt-1?project=sascha-playground-doit');\n",
       "              } else {\n",
       "                window.open('https://console.cloud.google.com/vertex-ai/experiments/locations/us-central1/experiments/eval-sdk-prompt-engineering/runs/eval-sdk-prompt-engineering-eval-prompt-engineering-m8iszh42-prompt-1?project=sascha-playground-doit', '_blank');\n",
       "              }\n",
       "              e.stopPropagation();\n",
       "              e.preventDefault();\n",
       "            });\n",
       "          })();\n",
       "        </script>\n",
       "    "
      ],
      "text/plain": [
       "<IPython.core.display.HTML object>"
      ]
     },
     "metadata": {},
     "output_type": "display_data"
    },
    {
     "name": "stdout",
     "output_type": "stream",
     "text": [
      "Logging Eval Experiment metadata: {'prompt_template': 'Article: {context}. Complete this task: {instruction}, in one sentence. Summary:', 'model_name': 'publishers/google/models/gemini-2.0-flash', 'temperature': 0.3, 'HARM_CATEGORY_UNSPECIFIED': 'BLOCK_NONE', 'HARM_CATEGORY_DANGEROUS_CONTENT': 'BLOCK_NONE', 'HARM_CATEGORY_HATE_SPEECH': 'BLOCK_NONE', 'HARM_CATEGORY_HARASSMENT': 'BLOCK_NONE', 'HARM_CATEGORY_SEXUALLY_EXPLICIT': 'BLOCK_NONE'}\n",
      "Assembling prompts from the `prompt_template`. The `prompt` column in the `EvalResult.metrics_table` has the assembled prompts used for model response generation.\n",
      "Generating a total of 5 responses from Gemini model gemini-2.0-flash.\n"
     ]
    },
    {
     "name": "stderr",
     "output_type": "stream",
     "text": [
      "100%|██████████| 5/5 [00:01<00:00,  3.46it/s]"
     ]
    },
    {
     "name": "stdout",
     "output_type": "stream",
     "text": [
      "All 5 responses are successfully generated from Gemini model gemini-2.0-flash.\n",
      "Multithreaded Batch Inference took: 1.4484022089964128 seconds.\n",
      "Computing metrics with a total of 25 Vertex Gen AI Evaluation Service API requests.\n"
     ]
    },
    {
     "name": "stderr",
     "output_type": "stream",
     "text": [
      "\n",
      "100%|██████████| 25/25 [00:05<00:00,  4.54it/s]"
     ]
    },
    {
     "name": "stdout",
     "output_type": "stream",
     "text": [
      "All 25 metric requests are successfully computed.\n",
      "Evaluation Took:5.514352833000885 seconds\n"
     ]
    },
    {
     "name": "stderr",
     "output_type": "stream",
     "text": [
      "\n"
     ]
    },
    {
     "data": {
      "text/html": [
       "\n",
       "        \n",
       "    <link rel=\"stylesheet\" href=\"https://fonts.googleapis.com/icon?family=Material+Icons\">\n",
       "    <style>\n",
       "      .view-vertex-resource,\n",
       "      .view-vertex-resource:hover,\n",
       "      .view-vertex-resource:visited {\n",
       "        position: relative;\n",
       "        display: inline-flex;\n",
       "        flex-direction: row;\n",
       "        height: 32px;\n",
       "        padding: 0 12px;\n",
       "          margin: 4px 18px;\n",
       "        gap: 4px;\n",
       "        border-radius: 4px;\n",
       "\n",
       "        align-items: center;\n",
       "        justify-content: center;\n",
       "        background-color: rgb(255, 255, 255);\n",
       "        color: rgb(51, 103, 214);\n",
       "\n",
       "        font-family: Roboto,\"Helvetica Neue\",sans-serif;\n",
       "        font-size: 13px;\n",
       "        font-weight: 500;\n",
       "        text-transform: uppercase;\n",
       "        text-decoration: none !important;\n",
       "\n",
       "        transition: box-shadow 280ms cubic-bezier(0.4, 0, 0.2, 1) 0s;\n",
       "        box-shadow: 0px 3px 1px -2px rgba(0,0,0,0.2), 0px 2px 2px 0px rgba(0,0,0,0.14), 0px 1px 5px 0px rgba(0,0,0,0.12);\n",
       "      }\n",
       "      .view-vertex-resource:active {\n",
       "        box-shadow: 0px 5px 5px -3px rgba(0,0,0,0.2),0px 8px 10px 1px rgba(0,0,0,0.14),0px 3px 14px 2px rgba(0,0,0,0.12);\n",
       "      }\n",
       "      .view-vertex-resource:active .view-vertex-ripple::before {\n",
       "        position: absolute;\n",
       "        top: 0;\n",
       "        bottom: 0;\n",
       "        left: 0;\n",
       "        right: 0;\n",
       "        border-radius: 4px;\n",
       "        pointer-events: none;\n",
       "\n",
       "        content: '';\n",
       "        background-color: rgb(51, 103, 214);\n",
       "        opacity: 0.12;\n",
       "      }\n",
       "      .view-vertex-icon {\n",
       "        font-size: 18px;\n",
       "      }\n",
       "    </style>\n",
       "  \n",
       "        <a class=\"view-vertex-resource\" id=\"view-vertex-resource-c2ba5f8c-138b-4248-935d-8806f98dfa62\" href=\"#view-view-vertex-resource-c2ba5f8c-138b-4248-935d-8806f98dfa62\">\n",
       "          <span class=\"material-icons view-vertex-icon\">bar_chart</span>\n",
       "          <span>View evaluation results</span>\n",
       "        </a>\n",
       "        \n",
       "        <script>\n",
       "          (function () {\n",
       "            const link = document.getElementById('view-vertex-resource-c2ba5f8c-138b-4248-935d-8806f98dfa62');\n",
       "            link.addEventListener('click', (e) => {\n",
       "              if (window.google?.colab?.openUrl) {\n",
       "                window.google.colab.openUrl('https://cloud.google.com/vertex-ai/generative-ai/docs/models/view-evaluation');\n",
       "              } else {\n",
       "                window.open('https://cloud.google.com/vertex-ai/generative-ai/docs/models/view-evaluation', '_blank');\n",
       "              }\n",
       "              e.stopPropagation();\n",
       "              e.preventDefault();\n",
       "            });\n",
       "          })();\n",
       "        </script>\n",
       "    "
      ],
      "text/plain": [
       "<IPython.core.display.HTML object>"
      ]
     },
     "metadata": {},
     "output_type": "display_data"
    },
    {
     "data": {
      "text/html": [
       "\n",
       "        \n",
       "    <link rel=\"stylesheet\" href=\"https://fonts.googleapis.com/icon?family=Material+Icons\">\n",
       "    <style>\n",
       "      .view-vertex-resource,\n",
       "      .view-vertex-resource:hover,\n",
       "      .view-vertex-resource:visited {\n",
       "        position: relative;\n",
       "        display: inline-flex;\n",
       "        flex-direction: row;\n",
       "        height: 32px;\n",
       "        padding: 0 12px;\n",
       "          margin: 4px 18px;\n",
       "        gap: 4px;\n",
       "        border-radius: 4px;\n",
       "\n",
       "        align-items: center;\n",
       "        justify-content: center;\n",
       "        background-color: rgb(255, 255, 255);\n",
       "        color: rgb(51, 103, 214);\n",
       "\n",
       "        font-family: Roboto,\"Helvetica Neue\",sans-serif;\n",
       "        font-size: 13px;\n",
       "        font-weight: 500;\n",
       "        text-transform: uppercase;\n",
       "        text-decoration: none !important;\n",
       "\n",
       "        transition: box-shadow 280ms cubic-bezier(0.4, 0, 0.2, 1) 0s;\n",
       "        box-shadow: 0px 3px 1px -2px rgba(0,0,0,0.2), 0px 2px 2px 0px rgba(0,0,0,0.14), 0px 1px 5px 0px rgba(0,0,0,0.12);\n",
       "      }\n",
       "      .view-vertex-resource:active {\n",
       "        box-shadow: 0px 5px 5px -3px rgba(0,0,0,0.2),0px 8px 10px 1px rgba(0,0,0,0.14),0px 3px 14px 2px rgba(0,0,0,0.12);\n",
       "      }\n",
       "      .view-vertex-resource:active .view-vertex-ripple::before {\n",
       "        position: absolute;\n",
       "        top: 0;\n",
       "        bottom: 0;\n",
       "        left: 0;\n",
       "        right: 0;\n",
       "        border-radius: 4px;\n",
       "        pointer-events: none;\n",
       "\n",
       "        content: '';\n",
       "        background-color: rgb(51, 103, 214);\n",
       "        opacity: 0.12;\n",
       "      }\n",
       "      .view-vertex-icon {\n",
       "        font-size: 18px;\n",
       "      }\n",
       "    </style>\n",
       "  \n",
       "        <a class=\"view-vertex-resource\" id=\"view-vertex-resource-64cebcdd-1a10-4c4f-824e-cf39880915d5\" href=\"#view-view-vertex-resource-64cebcdd-1a10-4c4f-824e-cf39880915d5\">\n",
       "          <span class=\"material-icons view-vertex-icon\">science</span>\n",
       "          <span>View Experiment</span>\n",
       "        </a>\n",
       "        \n",
       "        <script>\n",
       "          (function () {\n",
       "            const link = document.getElementById('view-vertex-resource-64cebcdd-1a10-4c4f-824e-cf39880915d5');\n",
       "            link.addEventListener('click', (e) => {\n",
       "              if (window.google?.colab?.openUrl) {\n",
       "                window.google.colab.openUrl('https://console.cloud.google.com/vertex-ai/experiments/locations/us-central1/experiments/eval-sdk-prompt-engineering/runs?project=sascha-playground-doit');\n",
       "              } else {\n",
       "                window.open('https://console.cloud.google.com/vertex-ai/experiments/locations/us-central1/experiments/eval-sdk-prompt-engineering/runs?project=sascha-playground-doit', '_blank');\n",
       "              }\n",
       "              e.stopPropagation();\n",
       "              e.preventDefault();\n",
       "            });\n",
       "          })();\n",
       "        </script>\n",
       "    "
      ],
      "text/plain": [
       "<IPython.core.display.HTML object>"
      ]
     },
     "metadata": {},
     "output_type": "display_data"
    },
    {
     "name": "stdout",
     "output_type": "stream",
     "text": [
      "Associating projects/234439745674/locations/us-central1/metadataStores/default/contexts/eval-sdk-prompt-engineering-eval-prompt-engineering-m8iszh42-prompt-2 to Experiment: eval-sdk-prompt-engineering\n"
     ]
    },
    {
     "data": {
      "text/html": [
       "\n",
       "        \n",
       "    <link rel=\"stylesheet\" href=\"https://fonts.googleapis.com/icon?family=Material+Icons\">\n",
       "    <style>\n",
       "      .view-vertex-resource,\n",
       "      .view-vertex-resource:hover,\n",
       "      .view-vertex-resource:visited {\n",
       "        position: relative;\n",
       "        display: inline-flex;\n",
       "        flex-direction: row;\n",
       "        height: 32px;\n",
       "        padding: 0 12px;\n",
       "          margin: 4px 18px;\n",
       "        gap: 4px;\n",
       "        border-radius: 4px;\n",
       "\n",
       "        align-items: center;\n",
       "        justify-content: center;\n",
       "        background-color: rgb(255, 255, 255);\n",
       "        color: rgb(51, 103, 214);\n",
       "\n",
       "        font-family: Roboto,\"Helvetica Neue\",sans-serif;\n",
       "        font-size: 13px;\n",
       "        font-weight: 500;\n",
       "        text-transform: uppercase;\n",
       "        text-decoration: none !important;\n",
       "\n",
       "        transition: box-shadow 280ms cubic-bezier(0.4, 0, 0.2, 1) 0s;\n",
       "        box-shadow: 0px 3px 1px -2px rgba(0,0,0,0.2), 0px 2px 2px 0px rgba(0,0,0,0.14), 0px 1px 5px 0px rgba(0,0,0,0.12);\n",
       "      }\n",
       "      .view-vertex-resource:active {\n",
       "        box-shadow: 0px 5px 5px -3px rgba(0,0,0,0.2),0px 8px 10px 1px rgba(0,0,0,0.14),0px 3px 14px 2px rgba(0,0,0,0.12);\n",
       "      }\n",
       "      .view-vertex-resource:active .view-vertex-ripple::before {\n",
       "        position: absolute;\n",
       "        top: 0;\n",
       "        bottom: 0;\n",
       "        left: 0;\n",
       "        right: 0;\n",
       "        border-radius: 4px;\n",
       "        pointer-events: none;\n",
       "\n",
       "        content: '';\n",
       "        background-color: rgb(51, 103, 214);\n",
       "        opacity: 0.12;\n",
       "      }\n",
       "      .view-vertex-icon {\n",
       "        font-size: 18px;\n",
       "      }\n",
       "    </style>\n",
       "  \n",
       "        <a class=\"view-vertex-resource\" id=\"view-vertex-resource-899655ee-184c-4403-b848-1cbadc4a7b78\" href=\"#view-view-vertex-resource-899655ee-184c-4403-b848-1cbadc4a7b78\">\n",
       "          <span class=\"material-icons view-vertex-icon\">science</span>\n",
       "          <span>View Experiment Run</span>\n",
       "        </a>\n",
       "        \n",
       "        <script>\n",
       "          (function () {\n",
       "            const link = document.getElementById('view-vertex-resource-899655ee-184c-4403-b848-1cbadc4a7b78');\n",
       "            link.addEventListener('click', (e) => {\n",
       "              if (window.google?.colab?.openUrl) {\n",
       "                window.google.colab.openUrl('https://console.cloud.google.com/vertex-ai/experiments/locations/us-central1/experiments/eval-sdk-prompt-engineering/runs/eval-sdk-prompt-engineering-eval-prompt-engineering-m8iszh42-prompt-2?project=sascha-playground-doit');\n",
       "              } else {\n",
       "                window.open('https://console.cloud.google.com/vertex-ai/experiments/locations/us-central1/experiments/eval-sdk-prompt-engineering/runs/eval-sdk-prompt-engineering-eval-prompt-engineering-m8iszh42-prompt-2?project=sascha-playground-doit', '_blank');\n",
       "              }\n",
       "              e.stopPropagation();\n",
       "              e.preventDefault();\n",
       "            });\n",
       "          })();\n",
       "        </script>\n",
       "    "
      ],
      "text/plain": [
       "<IPython.core.display.HTML object>"
      ]
     },
     "metadata": {},
     "output_type": "display_data"
    },
    {
     "name": "stdout",
     "output_type": "stream",
     "text": [
      "Logging Eval Experiment metadata: {'prompt_template': \"Give me a TLDR. Here's an article: {context}. Summary:\", 'model_name': 'publishers/google/models/gemini-2.0-flash', 'temperature': 0.3, 'HARM_CATEGORY_UNSPECIFIED': 'BLOCK_NONE', 'HARM_CATEGORY_DANGEROUS_CONTENT': 'BLOCK_NONE', 'HARM_CATEGORY_HATE_SPEECH': 'BLOCK_NONE', 'HARM_CATEGORY_HARASSMENT': 'BLOCK_NONE', 'HARM_CATEGORY_SEXUALLY_EXPLICIT': 'BLOCK_NONE'}\n",
      "Assembling prompts from the `prompt_template`. The `prompt` column in the `EvalResult.metrics_table` has the assembled prompts used for model response generation.\n",
      "Generating a total of 5 responses from Gemini model gemini-2.0-flash.\n"
     ]
    },
    {
     "name": "stderr",
     "output_type": "stream",
     "text": [
      "100%|██████████| 5/5 [00:01<00:00,  4.58it/s]"
     ]
    },
    {
     "name": "stdout",
     "output_type": "stream",
     "text": [
      "All 5 responses are successfully generated from Gemini model gemini-2.0-flash.\n",
      "Multithreaded Batch Inference took: 1.0968324580026092 seconds.\n",
      "Computing metrics with a total of 25 Vertex Gen AI Evaluation Service API requests.\n"
     ]
    },
    {
     "name": "stderr",
     "output_type": "stream",
     "text": [
      "\n",
      "100%|██████████| 25/25 [00:06<00:00,  3.64it/s]"
     ]
    },
    {
     "name": "stdout",
     "output_type": "stream",
     "text": [
      "All 25 metric requests are successfully computed.\n",
      "Evaluation Took:6.872241249999206 seconds\n"
     ]
    },
    {
     "name": "stderr",
     "output_type": "stream",
     "text": [
      "\n"
     ]
    },
    {
     "data": {
      "text/html": [
       "\n",
       "        \n",
       "    <link rel=\"stylesheet\" href=\"https://fonts.googleapis.com/icon?family=Material+Icons\">\n",
       "    <style>\n",
       "      .view-vertex-resource,\n",
       "      .view-vertex-resource:hover,\n",
       "      .view-vertex-resource:visited {\n",
       "        position: relative;\n",
       "        display: inline-flex;\n",
       "        flex-direction: row;\n",
       "        height: 32px;\n",
       "        padding: 0 12px;\n",
       "          margin: 4px 18px;\n",
       "        gap: 4px;\n",
       "        border-radius: 4px;\n",
       "\n",
       "        align-items: center;\n",
       "        justify-content: center;\n",
       "        background-color: rgb(255, 255, 255);\n",
       "        color: rgb(51, 103, 214);\n",
       "\n",
       "        font-family: Roboto,\"Helvetica Neue\",sans-serif;\n",
       "        font-size: 13px;\n",
       "        font-weight: 500;\n",
       "        text-transform: uppercase;\n",
       "        text-decoration: none !important;\n",
       "\n",
       "        transition: box-shadow 280ms cubic-bezier(0.4, 0, 0.2, 1) 0s;\n",
       "        box-shadow: 0px 3px 1px -2px rgba(0,0,0,0.2), 0px 2px 2px 0px rgba(0,0,0,0.14), 0px 1px 5px 0px rgba(0,0,0,0.12);\n",
       "      }\n",
       "      .view-vertex-resource:active {\n",
       "        box-shadow: 0px 5px 5px -3px rgba(0,0,0,0.2),0px 8px 10px 1px rgba(0,0,0,0.14),0px 3px 14px 2px rgba(0,0,0,0.12);\n",
       "      }\n",
       "      .view-vertex-resource:active .view-vertex-ripple::before {\n",
       "        position: absolute;\n",
       "        top: 0;\n",
       "        bottom: 0;\n",
       "        left: 0;\n",
       "        right: 0;\n",
       "        border-radius: 4px;\n",
       "        pointer-events: none;\n",
       "\n",
       "        content: '';\n",
       "        background-color: rgb(51, 103, 214);\n",
       "        opacity: 0.12;\n",
       "      }\n",
       "      .view-vertex-icon {\n",
       "        font-size: 18px;\n",
       "      }\n",
       "    </style>\n",
       "  \n",
       "        <a class=\"view-vertex-resource\" id=\"view-vertex-resource-54d878b5-bb06-4ffb-8772-bc92f2d678b6\" href=\"#view-view-vertex-resource-54d878b5-bb06-4ffb-8772-bc92f2d678b6\">\n",
       "          <span class=\"material-icons view-vertex-icon\">bar_chart</span>\n",
       "          <span>View evaluation results</span>\n",
       "        </a>\n",
       "        \n",
       "        <script>\n",
       "          (function () {\n",
       "            const link = document.getElementById('view-vertex-resource-54d878b5-bb06-4ffb-8772-bc92f2d678b6');\n",
       "            link.addEventListener('click', (e) => {\n",
       "              if (window.google?.colab?.openUrl) {\n",
       "                window.google.colab.openUrl('https://cloud.google.com/vertex-ai/generative-ai/docs/models/view-evaluation');\n",
       "              } else {\n",
       "                window.open('https://cloud.google.com/vertex-ai/generative-ai/docs/models/view-evaluation', '_blank');\n",
       "              }\n",
       "              e.stopPropagation();\n",
       "              e.preventDefault();\n",
       "            });\n",
       "          })();\n",
       "        </script>\n",
       "    "
      ],
      "text/plain": [
       "<IPython.core.display.HTML object>"
      ]
     },
     "metadata": {},
     "output_type": "display_data"
    }
   ],
   "source": [
    "run_id = notebook_utils.generate_uuid(8)\n",
    "eval_results = []\n",
    "\n",
    "\n",
    "for i, prompt_template in enumerate(prompt_templates):\n",
    "    experiment_run_name = f\"eval-prompt-engineering-{run_id}-prompt-{i}\"\n",
    "\n",
    "    eval_result = summarization_eval_task.evaluate(\n",
    "        prompt_template=prompt_template,\n",
    "        experiment_run_name=experiment_run_name,\n",
    "        model=gemini_model,\n",
    "    )\n",
    "\n",
    "    eval_results.append((f\"Prompt #{i}\", eval_result))"
   ]
  },
  {
   "cell_type": "code",
   "execution_count": 3,
   "id": "05ebf80d",
   "metadata": {},
   "outputs": [
    {
     "data": {
      "text/markdown": [
       "## Prompt #0"
      ],
      "text/plain": [
       "<IPython.core.display.Markdown object>"
      ]
     },
     "metadata": {},
     "output_type": "display_data"
    },
    {
     "data": {
      "text/markdown": [
       "### Summary Metrics"
      ],
      "text/plain": [
       "<IPython.core.display.Markdown object>"
      ]
     },
     "metadata": {},
     "output_type": "display_data"
    },
    {
     "data": {
      "text/html": [
       "<div>\n",
       "<style scoped>\n",
       "    .dataframe tbody tr th:only-of-type {\n",
       "        vertical-align: middle;\n",
       "    }\n",
       "\n",
       "    .dataframe tbody tr th {\n",
       "        vertical-align: top;\n",
       "    }\n",
       "\n",
       "    .dataframe thead th {\n",
       "        text-align: right;\n",
       "    }\n",
       "</style>\n",
       "<table border=\"1\" class=\"dataframe\">\n",
       "  <thead>\n",
       "    <tr style=\"text-align: right;\">\n",
       "      <th></th>\n",
       "      <th>row_count</th>\n",
       "      <th>fluency/mean</th>\n",
       "      <th>fluency/std</th>\n",
       "      <th>coherence/mean</th>\n",
       "      <th>coherence/std</th>\n",
       "      <th>groundedness/mean</th>\n",
       "      <th>groundedness/std</th>\n",
       "      <th>summarization_quality/mean</th>\n",
       "      <th>summarization_quality/std</th>\n",
       "      <th>verbosity/mean</th>\n",
       "      <th>verbosity/std</th>\n",
       "    </tr>\n",
       "  </thead>\n",
       "  <tbody>\n",
       "    <tr>\n",
       "      <th>0</th>\n",
       "      <td>5.0</td>\n",
       "      <td>5.0</td>\n",
       "      <td>0.0</td>\n",
       "      <td>4.8</td>\n",
       "      <td>0.447214</td>\n",
       "      <td>1.0</td>\n",
       "      <td>0.0</td>\n",
       "      <td>5.0</td>\n",
       "      <td>0.0</td>\n",
       "      <td>0.0</td>\n",
       "      <td>0.0</td>\n",
       "    </tr>\n",
       "  </tbody>\n",
       "</table>\n",
       "</div>"
      ],
      "text/plain": [
       "   row_count  fluency/mean  fluency/std  coherence/mean  coherence/std  \\\n",
       "0        5.0           5.0          0.0             4.8       0.447214   \n",
       "\n",
       "   groundedness/mean  groundedness/std  summarization_quality/mean  \\\n",
       "0                1.0               0.0                         5.0   \n",
       "\n",
       "   summarization_quality/std  verbosity/mean  verbosity/std  \n",
       "0                        0.0             0.0            0.0  "
      ]
     },
     "metadata": {},
     "output_type": "display_data"
    },
    {
     "data": {
      "text/markdown": [
       "### Row-based Metrics"
      ],
      "text/plain": [
       "<IPython.core.display.Markdown object>"
      ]
     },
     "metadata": {},
     "output_type": "display_data"
    },
    {
     "data": {
      "text/html": [
       "<div>\n",
       "<style scoped>\n",
       "    .dataframe tbody tr th:only-of-type {\n",
       "        vertical-align: middle;\n",
       "    }\n",
       "\n",
       "    .dataframe tbody tr th {\n",
       "        vertical-align: top;\n",
       "    }\n",
       "\n",
       "    .dataframe thead th {\n",
       "        text-align: right;\n",
       "    }\n",
       "</style>\n",
       "<table border=\"1\" class=\"dataframe\">\n",
       "  <thead>\n",
       "    <tr style=\"text-align: right;\">\n",
       "      <th></th>\n",
       "      <th>context</th>\n",
       "      <th>reference</th>\n",
       "      <th>instruction</th>\n",
       "      <th>prompt</th>\n",
       "      <th>response</th>\n",
       "      <th>fluency/explanation</th>\n",
       "      <th>fluency/score</th>\n",
       "      <th>coherence/explanation</th>\n",
       "      <th>coherence/score</th>\n",
       "      <th>groundedness/explanation</th>\n",
       "      <th>groundedness/score</th>\n",
       "      <th>summarization_quality/explanation</th>\n",
       "      <th>summarization_quality/score</th>\n",
       "      <th>verbosity/explanation</th>\n",
       "      <th>verbosity/score</th>\n",
       "    </tr>\n",
       "  </thead>\n",
       "  <tbody>\n",
       "    <tr>\n",
       "      <th>0</th>\n",
       "      <td>To make a classic spaghetti carbonara, start b...</td>\n",
       "      <td>The process of making spaghetti carbonara invo...</td>\n",
       "      <td>Summarize the following article</td>\n",
       "      <td>Instruction: Summarize the following article. ...</td>\n",
       "      <td>To make spaghetti carbonara, boil salted water...</td>\n",
       "      <td>The response is fluent, with no grammatical er...</td>\n",
       "      <td>5.0</td>\n",
       "      <td>The summary presents a clear and concise versi...</td>\n",
       "      <td>4.0</td>\n",
       "      <td>The response is fully grounded in the provided...</td>\n",
       "      <td>1.0</td>\n",
       "      <td>The summary is grounded, concise, and fluent, ...</td>\n",
       "      <td>5.0</td>\n",
       "      <td>The response is perfectly concise, providing a...</td>\n",
       "      <td>0.0</td>\n",
       "    </tr>\n",
       "    <tr>\n",
       "      <th>1</th>\n",
       "      <td>Preparing a perfect risotto requires patience ...</td>\n",
       "      <td>Preparing risotto entails sautéing onions and ...</td>\n",
       "      <td>Summarize the following article</td>\n",
       "      <td>Instruction: Summarize the following article. ...</td>\n",
       "      <td>To make perfect risotto, sauté onions and garl...</td>\n",
       "      <td>The response is completely fluent, free of gra...</td>\n",
       "      <td>5.0</td>\n",
       "      <td>The summary has a great logical flow, it highl...</td>\n",
       "      <td>5.0</td>\n",
       "      <td>The response is fully grounded, as it accurate...</td>\n",
       "      <td>1.0</td>\n",
       "      <td>The summary follows instructions, is grounded,...</td>\n",
       "      <td>5.0</td>\n",
       "      <td>The response is concise and provides all the n...</td>\n",
       "      <td>0.0</td>\n",
       "    </tr>\n",
       "    <tr>\n",
       "      <th>2</th>\n",
       "      <td>For a flavorful grilled steak, start by choosi...</td>\n",
       "      <td>Grilling a flavorful steak involves seasoning ...</td>\n",
       "      <td>Summarize the following article</td>\n",
       "      <td>Instruction: Summarize the following article. ...</td>\n",
       "      <td>To grill a flavorful steak, choose a marbled c...</td>\n",
       "      <td>The response is fluent, with no grammatical er...</td>\n",
       "      <td>5.0</td>\n",
       "      <td>The response provides a clear and coherent sum...</td>\n",
       "      <td>5.0</td>\n",
       "      <td>The response accurately summarizes the article...</td>\n",
       "      <td>1.0</td>\n",
       "      <td>The summary follows instructions, is grounded,...</td>\n",
       "      <td>5.0</td>\n",
       "      <td>The response is appropriately concise, providi...</td>\n",
       "      <td>0.0</td>\n",
       "    </tr>\n",
       "    <tr>\n",
       "      <th>3</th>\n",
       "      <td>Creating a creamy homemade tomato soup is a co...</td>\n",
       "      <td>Creating homemade tomato soup includes sautéin...</td>\n",
       "      <td>Summarize the following article</td>\n",
       "      <td>Instruction: Summarize the following article. ...</td>\n",
       "      <td>To make creamy homemade tomato soup, sauté oni...</td>\n",
       "      <td>The response is completely fluent because it i...</td>\n",
       "      <td>5.0</td>\n",
       "      <td>The response provides a clear and concise summ...</td>\n",
       "      <td>5.0</td>\n",
       "      <td>The summary provided in the response accuratel...</td>\n",
       "      <td>1.0</td>\n",
       "      <td>The summary follows instructions, is grounded,...</td>\n",
       "      <td>5.0</td>\n",
       "      <td>The response is appropriately concise, providi...</td>\n",
       "      <td>0.0</td>\n",
       "    </tr>\n",
       "    <tr>\n",
       "      <th>4</th>\n",
       "      <td>To bake a decadent chocolate cake from scratch...</td>\n",
       "      <td>Baking a decadent chocolate cake requires crea...</td>\n",
       "      <td>Summarize the following article</td>\n",
       "      <td>Instruction: Summarize the following article. ...</td>\n",
       "      <td>To bake a chocolate cake, preheat the oven to ...</td>\n",
       "      <td>The response is fluent, with no grammatical er...</td>\n",
       "      <td>5.0</td>\n",
       "      <td>The summary maintains a logical flow, clear st...</td>\n",
       "      <td>5.0</td>\n",
       "      <td>The response is completely grounded in the pro...</td>\n",
       "      <td>1.0</td>\n",
       "      <td>The response effectively summarizes the provid...</td>\n",
       "      <td>5.0</td>\n",
       "      <td>The response is perfectly concise, providing a...</td>\n",
       "      <td>0.0</td>\n",
       "    </tr>\n",
       "  </tbody>\n",
       "</table>\n",
       "</div>"
      ],
      "text/plain": [
       "                                             context  \\\n",
       "0  To make a classic spaghetti carbonara, start b...   \n",
       "1  Preparing a perfect risotto requires patience ...   \n",
       "2  For a flavorful grilled steak, start by choosi...   \n",
       "3  Creating a creamy homemade tomato soup is a co...   \n",
       "4  To bake a decadent chocolate cake from scratch...   \n",
       "\n",
       "                                           reference  \\\n",
       "0  The process of making spaghetti carbonara invo...   \n",
       "1  Preparing risotto entails sautéing onions and ...   \n",
       "2  Grilling a flavorful steak involves seasoning ...   \n",
       "3  Creating homemade tomato soup includes sautéin...   \n",
       "4  Baking a decadent chocolate cake requires crea...   \n",
       "\n",
       "                       instruction  \\\n",
       "0  Summarize the following article   \n",
       "1  Summarize the following article   \n",
       "2  Summarize the following article   \n",
       "3  Summarize the following article   \n",
       "4  Summarize the following article   \n",
       "\n",
       "                                              prompt  \\\n",
       "0  Instruction: Summarize the following article. ...   \n",
       "1  Instruction: Summarize the following article. ...   \n",
       "2  Instruction: Summarize the following article. ...   \n",
       "3  Instruction: Summarize the following article. ...   \n",
       "4  Instruction: Summarize the following article. ...   \n",
       "\n",
       "                                            response  \\\n",
       "0  To make spaghetti carbonara, boil salted water...   \n",
       "1  To make perfect risotto, sauté onions and garl...   \n",
       "2  To grill a flavorful steak, choose a marbled c...   \n",
       "3  To make creamy homemade tomato soup, sauté oni...   \n",
       "4  To bake a chocolate cake, preheat the oven to ...   \n",
       "\n",
       "                                 fluency/explanation  fluency/score  \\\n",
       "0  The response is fluent, with no grammatical er...            5.0   \n",
       "1  The response is completely fluent, free of gra...            5.0   \n",
       "2  The response is fluent, with no grammatical er...            5.0   \n",
       "3  The response is completely fluent because it i...            5.0   \n",
       "4  The response is fluent, with no grammatical er...            5.0   \n",
       "\n",
       "                               coherence/explanation  coherence/score  \\\n",
       "0  The summary presents a clear and concise versi...              4.0   \n",
       "1  The summary has a great logical flow, it highl...              5.0   \n",
       "2  The response provides a clear and coherent sum...              5.0   \n",
       "3  The response provides a clear and concise summ...              5.0   \n",
       "4  The summary maintains a logical flow, clear st...              5.0   \n",
       "\n",
       "                            groundedness/explanation  groundedness/score  \\\n",
       "0  The response is fully grounded in the provided...                 1.0   \n",
       "1  The response is fully grounded, as it accurate...                 1.0   \n",
       "2  The response accurately summarizes the article...                 1.0   \n",
       "3  The summary provided in the response accuratel...                 1.0   \n",
       "4  The response is completely grounded in the pro...                 1.0   \n",
       "\n",
       "                   summarization_quality/explanation  \\\n",
       "0  The summary is grounded, concise, and fluent, ...   \n",
       "1  The summary follows instructions, is grounded,...   \n",
       "2  The summary follows instructions, is grounded,...   \n",
       "3  The summary follows instructions, is grounded,...   \n",
       "4  The response effectively summarizes the provid...   \n",
       "\n",
       "   summarization_quality/score  \\\n",
       "0                          5.0   \n",
       "1                          5.0   \n",
       "2                          5.0   \n",
       "3                          5.0   \n",
       "4                          5.0   \n",
       "\n",
       "                               verbosity/explanation  verbosity/score  \n",
       "0  The response is perfectly concise, providing a...              0.0  \n",
       "1  The response is concise and provides all the n...              0.0  \n",
       "2  The response is appropriately concise, providi...              0.0  \n",
       "3  The response is appropriately concise, providi...              0.0  \n",
       "4  The response is perfectly concise, providing a...              0.0  "
      ]
     },
     "metadata": {},
     "output_type": "display_data"
    },
    {
     "data": {
      "text/markdown": [
       "## Prompt #1"
      ],
      "text/plain": [
       "<IPython.core.display.Markdown object>"
      ]
     },
     "metadata": {},
     "output_type": "display_data"
    },
    {
     "data": {
      "text/markdown": [
       "### Summary Metrics"
      ],
      "text/plain": [
       "<IPython.core.display.Markdown object>"
      ]
     },
     "metadata": {},
     "output_type": "display_data"
    },
    {
     "data": {
      "text/html": [
       "<div>\n",
       "<style scoped>\n",
       "    .dataframe tbody tr th:only-of-type {\n",
       "        vertical-align: middle;\n",
       "    }\n",
       "\n",
       "    .dataframe tbody tr th {\n",
       "        vertical-align: top;\n",
       "    }\n",
       "\n",
       "    .dataframe thead th {\n",
       "        text-align: right;\n",
       "    }\n",
       "</style>\n",
       "<table border=\"1\" class=\"dataframe\">\n",
       "  <thead>\n",
       "    <tr style=\"text-align: right;\">\n",
       "      <th></th>\n",
       "      <th>row_count</th>\n",
       "      <th>fluency/mean</th>\n",
       "      <th>fluency/std</th>\n",
       "      <th>coherence/mean</th>\n",
       "      <th>coherence/std</th>\n",
       "      <th>groundedness/mean</th>\n",
       "      <th>groundedness/std</th>\n",
       "      <th>summarization_quality/mean</th>\n",
       "      <th>summarization_quality/std</th>\n",
       "      <th>verbosity/mean</th>\n",
       "      <th>verbosity/std</th>\n",
       "    </tr>\n",
       "  </thead>\n",
       "  <tbody>\n",
       "    <tr>\n",
       "      <th>0</th>\n",
       "      <td>5.0</td>\n",
       "      <td>5.0</td>\n",
       "      <td>0.0</td>\n",
       "      <td>4.8</td>\n",
       "      <td>0.447214</td>\n",
       "      <td>1.0</td>\n",
       "      <td>0.0</td>\n",
       "      <td>5.0</td>\n",
       "      <td>0.0</td>\n",
       "      <td>0.0</td>\n",
       "      <td>0.0</td>\n",
       "    </tr>\n",
       "  </tbody>\n",
       "</table>\n",
       "</div>"
      ],
      "text/plain": [
       "   row_count  fluency/mean  fluency/std  coherence/mean  coherence/std  \\\n",
       "0        5.0           5.0          0.0             4.8       0.447214   \n",
       "\n",
       "   groundedness/mean  groundedness/std  summarization_quality/mean  \\\n",
       "0                1.0               0.0                         5.0   \n",
       "\n",
       "   summarization_quality/std  verbosity/mean  verbosity/std  \n",
       "0                        0.0             0.0            0.0  "
      ]
     },
     "metadata": {},
     "output_type": "display_data"
    },
    {
     "data": {
      "text/markdown": [
       "### Row-based Metrics"
      ],
      "text/plain": [
       "<IPython.core.display.Markdown object>"
      ]
     },
     "metadata": {},
     "output_type": "display_data"
    },
    {
     "data": {
      "text/html": [
       "<div>\n",
       "<style scoped>\n",
       "    .dataframe tbody tr th:only-of-type {\n",
       "        vertical-align: middle;\n",
       "    }\n",
       "\n",
       "    .dataframe tbody tr th {\n",
       "        vertical-align: top;\n",
       "    }\n",
       "\n",
       "    .dataframe thead th {\n",
       "        text-align: right;\n",
       "    }\n",
       "</style>\n",
       "<table border=\"1\" class=\"dataframe\">\n",
       "  <thead>\n",
       "    <tr style=\"text-align: right;\">\n",
       "      <th></th>\n",
       "      <th>context</th>\n",
       "      <th>reference</th>\n",
       "      <th>instruction</th>\n",
       "      <th>prompt</th>\n",
       "      <th>response</th>\n",
       "      <th>fluency/explanation</th>\n",
       "      <th>fluency/score</th>\n",
       "      <th>coherence/explanation</th>\n",
       "      <th>coherence/score</th>\n",
       "      <th>groundedness/explanation</th>\n",
       "      <th>groundedness/score</th>\n",
       "      <th>summarization_quality/explanation</th>\n",
       "      <th>summarization_quality/score</th>\n",
       "      <th>verbosity/explanation</th>\n",
       "      <th>verbosity/score</th>\n",
       "    </tr>\n",
       "  </thead>\n",
       "  <tbody>\n",
       "    <tr>\n",
       "      <th>0</th>\n",
       "      <td>To make a classic spaghetti carbonara, start b...</td>\n",
       "      <td>The process of making spaghetti carbonara invo...</td>\n",
       "      <td>Summarize the following article</td>\n",
       "      <td>Article: To make a classic spaghetti carbonara...</td>\n",
       "      <td>To make classic spaghetti carbonara, cook past...</td>\n",
       "      <td>The response is fluent as it contains no gramm...</td>\n",
       "      <td>5.0</td>\n",
       "      <td>The response effectively summarizes the articl...</td>\n",
       "      <td>4.0</td>\n",
       "      <td>The response is fully grounded in the provided...</td>\n",
       "      <td>1.0</td>\n",
       "      <td>The response follows the instructions to summa...</td>\n",
       "      <td>5.0</td>\n",
       "      <td>The response is perfectly concise, providing a...</td>\n",
       "      <td>0.0</td>\n",
       "    </tr>\n",
       "    <tr>\n",
       "      <th>1</th>\n",
       "      <td>Preparing a perfect risotto requires patience ...</td>\n",
       "      <td>Preparing risotto entails sautéing onions and ...</td>\n",
       "      <td>Summarize the following article</td>\n",
       "      <td>Article: Preparing a perfect risotto requires ...</td>\n",
       "      <td>To make perfect risotto, sauté onions and garl...</td>\n",
       "      <td>The response is completely fluent, free of gra...</td>\n",
       "      <td>5.0</td>\n",
       "      <td>The response is completely coherent as it prov...</td>\n",
       "      <td>5.0</td>\n",
       "      <td>The response is fully grounded in the provided...</td>\n",
       "      <td>1.0</td>\n",
       "      <td>The response accurately summarizes the article...</td>\n",
       "      <td>5.0</td>\n",
       "      <td>The response is perfectly concise and provides...</td>\n",
       "      <td>0.0</td>\n",
       "    </tr>\n",
       "    <tr>\n",
       "      <th>2</th>\n",
       "      <td>For a flavorful grilled steak, start by choosi...</td>\n",
       "      <td>Grilling a flavorful steak involves seasoning ...</td>\n",
       "      <td>Summarize the following article</td>\n",
       "      <td>Article: For a flavorful grilled steak, start ...</td>\n",
       "      <td>To grill a flavorful steak, choose a well-marb...</td>\n",
       "      <td>The response is fluent, free of grammatical er...</td>\n",
       "      <td>5.0</td>\n",
       "      <td>The response is completely coherent, providing...</td>\n",
       "      <td>5.0</td>\n",
       "      <td>The response is fully grounded in the article ...</td>\n",
       "      <td>1.0</td>\n",
       "      <td>The response followed instructions by summariz...</td>\n",
       "      <td>5.0</td>\n",
       "      <td>The response is perfectly concise, providing a...</td>\n",
       "      <td>0.0</td>\n",
       "    </tr>\n",
       "    <tr>\n",
       "      <th>3</th>\n",
       "      <td>Creating a creamy homemade tomato soup is a co...</td>\n",
       "      <td>Creating homemade tomato soup includes sautéin...</td>\n",
       "      <td>Summarize the following article</td>\n",
       "      <td>Article: Creating a creamy homemade tomato sou...</td>\n",
       "      <td>A creamy homemade tomato soup is easily made b...</td>\n",
       "      <td>The response is fluent, uses varied sentence s...</td>\n",
       "      <td>5.0</td>\n",
       "      <td>The response has a seamless flow, is expertly ...</td>\n",
       "      <td>5.0</td>\n",
       "      <td>The response is fully grounded as it only cont...</td>\n",
       "      <td>1.0</td>\n",
       "      <td>The response followed instructions, summarized...</td>\n",
       "      <td>5.0</td>\n",
       "      <td>The response is perfectly concise, providing a...</td>\n",
       "      <td>0.0</td>\n",
       "    </tr>\n",
       "    <tr>\n",
       "      <th>4</th>\n",
       "      <td>To bake a decadent chocolate cake from scratch...</td>\n",
       "      <td>Baking a decadent chocolate cake requires crea...</td>\n",
       "      <td>Summarize the following article</td>\n",
       "      <td>Article: To bake a decadent chocolate cake fro...</td>\n",
       "      <td>To bake a decadent chocolate cake, preheat the...</td>\n",
       "      <td>The response is fluent, with no grammatical er...</td>\n",
       "      <td>5.0</td>\n",
       "      <td>The response provides a concise and coherent s...</td>\n",
       "      <td>5.0</td>\n",
       "      <td>All information provided in the response is di...</td>\n",
       "      <td>1.0</td>\n",
       "      <td>The response follows instructions by summarizi...</td>\n",
       "      <td>5.0</td>\n",
       "      <td>The response is perfectly concise, providing a...</td>\n",
       "      <td>0.0</td>\n",
       "    </tr>\n",
       "  </tbody>\n",
       "</table>\n",
       "</div>"
      ],
      "text/plain": [
       "                                             context  \\\n",
       "0  To make a classic spaghetti carbonara, start b...   \n",
       "1  Preparing a perfect risotto requires patience ...   \n",
       "2  For a flavorful grilled steak, start by choosi...   \n",
       "3  Creating a creamy homemade tomato soup is a co...   \n",
       "4  To bake a decadent chocolate cake from scratch...   \n",
       "\n",
       "                                           reference  \\\n",
       "0  The process of making spaghetti carbonara invo...   \n",
       "1  Preparing risotto entails sautéing onions and ...   \n",
       "2  Grilling a flavorful steak involves seasoning ...   \n",
       "3  Creating homemade tomato soup includes sautéin...   \n",
       "4  Baking a decadent chocolate cake requires crea...   \n",
       "\n",
       "                       instruction  \\\n",
       "0  Summarize the following article   \n",
       "1  Summarize the following article   \n",
       "2  Summarize the following article   \n",
       "3  Summarize the following article   \n",
       "4  Summarize the following article   \n",
       "\n",
       "                                              prompt  \\\n",
       "0  Article: To make a classic spaghetti carbonara...   \n",
       "1  Article: Preparing a perfect risotto requires ...   \n",
       "2  Article: For a flavorful grilled steak, start ...   \n",
       "3  Article: Creating a creamy homemade tomato sou...   \n",
       "4  Article: To bake a decadent chocolate cake fro...   \n",
       "\n",
       "                                            response  \\\n",
       "0  To make classic spaghetti carbonara, cook past...   \n",
       "1  To make perfect risotto, sauté onions and garl...   \n",
       "2  To grill a flavorful steak, choose a well-marb...   \n",
       "3  A creamy homemade tomato soup is easily made b...   \n",
       "4  To bake a decadent chocolate cake, preheat the...   \n",
       "\n",
       "                                 fluency/explanation  fluency/score  \\\n",
       "0  The response is fluent as it contains no gramm...            5.0   \n",
       "1  The response is completely fluent, free of gra...            5.0   \n",
       "2  The response is fluent, free of grammatical er...            5.0   \n",
       "3  The response is fluent, uses varied sentence s...            5.0   \n",
       "4  The response is fluent, with no grammatical er...            5.0   \n",
       "\n",
       "                               coherence/explanation  coherence/score  \\\n",
       "0  The response effectively summarizes the articl...              4.0   \n",
       "1  The response is completely coherent as it prov...              5.0   \n",
       "2  The response is completely coherent, providing...              5.0   \n",
       "3  The response has a seamless flow, is expertly ...              5.0   \n",
       "4  The response provides a concise and coherent s...              5.0   \n",
       "\n",
       "                            groundedness/explanation  groundedness/score  \\\n",
       "0  The response is fully grounded in the provided...                 1.0   \n",
       "1  The response is fully grounded in the provided...                 1.0   \n",
       "2  The response is fully grounded in the article ...                 1.0   \n",
       "3  The response is fully grounded as it only cont...                 1.0   \n",
       "4  All information provided in the response is di...                 1.0   \n",
       "\n",
       "                   summarization_quality/explanation  \\\n",
       "0  The response follows the instructions to summa...   \n",
       "1  The response accurately summarizes the article...   \n",
       "2  The response followed instructions by summariz...   \n",
       "3  The response followed instructions, summarized...   \n",
       "4  The response follows instructions by summarizi...   \n",
       "\n",
       "   summarization_quality/score  \\\n",
       "0                          5.0   \n",
       "1                          5.0   \n",
       "2                          5.0   \n",
       "3                          5.0   \n",
       "4                          5.0   \n",
       "\n",
       "                               verbosity/explanation  verbosity/score  \n",
       "0  The response is perfectly concise, providing a...              0.0  \n",
       "1  The response is perfectly concise and provides...              0.0  \n",
       "2  The response is perfectly concise, providing a...              0.0  \n",
       "3  The response is perfectly concise, providing a...              0.0  \n",
       "4  The response is perfectly concise, providing a...              0.0  "
      ]
     },
     "metadata": {},
     "output_type": "display_data"
    },
    {
     "data": {
      "text/markdown": [
       "## Prompt #2"
      ],
      "text/plain": [
       "<IPython.core.display.Markdown object>"
      ]
     },
     "metadata": {},
     "output_type": "display_data"
    },
    {
     "data": {
      "text/markdown": [
       "### Summary Metrics"
      ],
      "text/plain": [
       "<IPython.core.display.Markdown object>"
      ]
     },
     "metadata": {},
     "output_type": "display_data"
    },
    {
     "data": {
      "text/html": [
       "<div>\n",
       "<style scoped>\n",
       "    .dataframe tbody tr th:only-of-type {\n",
       "        vertical-align: middle;\n",
       "    }\n",
       "\n",
       "    .dataframe tbody tr th {\n",
       "        vertical-align: top;\n",
       "    }\n",
       "\n",
       "    .dataframe thead th {\n",
       "        text-align: right;\n",
       "    }\n",
       "</style>\n",
       "<table border=\"1\" class=\"dataframe\">\n",
       "  <thead>\n",
       "    <tr style=\"text-align: right;\">\n",
       "      <th></th>\n",
       "      <th>row_count</th>\n",
       "      <th>fluency/mean</th>\n",
       "      <th>fluency/std</th>\n",
       "      <th>coherence/mean</th>\n",
       "      <th>coherence/std</th>\n",
       "      <th>groundedness/mean</th>\n",
       "      <th>groundedness/std</th>\n",
       "      <th>summarization_quality/mean</th>\n",
       "      <th>summarization_quality/std</th>\n",
       "      <th>verbosity/mean</th>\n",
       "      <th>verbosity/std</th>\n",
       "    </tr>\n",
       "  </thead>\n",
       "  <tbody>\n",
       "    <tr>\n",
       "      <th>0</th>\n",
       "      <td>5.0</td>\n",
       "      <td>4.6</td>\n",
       "      <td>0.547723</td>\n",
       "      <td>4.4</td>\n",
       "      <td>0.547723</td>\n",
       "      <td>1.0</td>\n",
       "      <td>0.0</td>\n",
       "      <td>5.0</td>\n",
       "      <td>0.0</td>\n",
       "      <td>0.0</td>\n",
       "      <td>0.0</td>\n",
       "    </tr>\n",
       "  </tbody>\n",
       "</table>\n",
       "</div>"
      ],
      "text/plain": [
       "   row_count  fluency/mean  fluency/std  coherence/mean  coherence/std  \\\n",
       "0        5.0           4.6     0.547723             4.4       0.547723   \n",
       "\n",
       "   groundedness/mean  groundedness/std  summarization_quality/mean  \\\n",
       "0                1.0               0.0                         5.0   \n",
       "\n",
       "   summarization_quality/std  verbosity/mean  verbosity/std  \n",
       "0                        0.0             0.0            0.0  "
      ]
     },
     "metadata": {},
     "output_type": "display_data"
    },
    {
     "data": {
      "text/markdown": [
       "### Row-based Metrics"
      ],
      "text/plain": [
       "<IPython.core.display.Markdown object>"
      ]
     },
     "metadata": {},
     "output_type": "display_data"
    },
    {
     "data": {
      "text/html": [
       "<div>\n",
       "<style scoped>\n",
       "    .dataframe tbody tr th:only-of-type {\n",
       "        vertical-align: middle;\n",
       "    }\n",
       "\n",
       "    .dataframe tbody tr th {\n",
       "        vertical-align: top;\n",
       "    }\n",
       "\n",
       "    .dataframe thead th {\n",
       "        text-align: right;\n",
       "    }\n",
       "</style>\n",
       "<table border=\"1\" class=\"dataframe\">\n",
       "  <thead>\n",
       "    <tr style=\"text-align: right;\">\n",
       "      <th></th>\n",
       "      <th>context</th>\n",
       "      <th>reference</th>\n",
       "      <th>instruction</th>\n",
       "      <th>prompt</th>\n",
       "      <th>response</th>\n",
       "      <th>fluency/explanation</th>\n",
       "      <th>fluency/score</th>\n",
       "      <th>coherence/explanation</th>\n",
       "      <th>coherence/score</th>\n",
       "      <th>groundedness/explanation</th>\n",
       "      <th>groundedness/score</th>\n",
       "      <th>summarization_quality/explanation</th>\n",
       "      <th>summarization_quality/score</th>\n",
       "      <th>verbosity/explanation</th>\n",
       "      <th>verbosity/score</th>\n",
       "    </tr>\n",
       "  </thead>\n",
       "  <tbody>\n",
       "    <tr>\n",
       "      <th>0</th>\n",
       "      <td>To make a classic spaghetti carbonara, start b...</td>\n",
       "      <td>The process of making spaghetti carbonara invo...</td>\n",
       "      <td>Summarize the following article</td>\n",
       "      <td>Give me a TLDR. Here's an article: To make a c...</td>\n",
       "      <td>**TLDR;** Cook pasta, fry pancetta, mix eggs/P...</td>\n",
       "      <td>The response is mostly fluent as it presents a...</td>\n",
       "      <td>4.0</td>\n",
       "      <td>The response is a clear and concise summary of...</td>\n",
       "      <td>4.0</td>\n",
       "      <td>All aspects of the response are attributable t...</td>\n",
       "      <td>1.0</td>\n",
       "      <td>The response follows instructions to provide a...</td>\n",
       "      <td>5.0</td>\n",
       "      <td>The response is appropriately concise and prov...</td>\n",
       "      <td>0.0</td>\n",
       "    </tr>\n",
       "    <tr>\n",
       "      <th>1</th>\n",
       "      <td>Preparing a perfect risotto requires patience ...</td>\n",
       "      <td>Preparing risotto entails sautéing onions and ...</td>\n",
       "      <td>Summarize the following article</td>\n",
       "      <td>Give me a TLDR. Here's an article: Preparing a...</td>\n",
       "      <td>**TLDR;** Risotto needs patience! Sauté onions...</td>\n",
       "      <td>The response is fluent and accurately summariz...</td>\n",
       "      <td>5.0</td>\n",
       "      <td>The response presents a coherent summary of th...</td>\n",
       "      <td>4.0</td>\n",
       "      <td>The response only uses information provided in...</td>\n",
       "      <td>1.0</td>\n",
       "      <td>The response follows the instructions, is grou...</td>\n",
       "      <td>5.0</td>\n",
       "      <td>The response provides a concise summary of the...</td>\n",
       "      <td>0.0</td>\n",
       "    </tr>\n",
       "    <tr>\n",
       "      <th>2</th>\n",
       "      <td>For a flavorful grilled steak, start by choosi...</td>\n",
       "      <td>Grilling a flavorful steak involves seasoning ...</td>\n",
       "      <td>Summarize the following article</td>\n",
       "      <td>Give me a TLDR. Here's an article: For a flavo...</td>\n",
       "      <td>**TLDR: Get a marbled steak (ribeye/NY strip),...</td>\n",
       "      <td>The response is completely fluent as it provid...</td>\n",
       "      <td>5.0</td>\n",
       "      <td>The response is completely coherent, providing...</td>\n",
       "      <td>5.0</td>\n",
       "      <td>All information in the TLDR is found within th...</td>\n",
       "      <td>1.0</td>\n",
       "      <td>This response follows instructions by providin...</td>\n",
       "      <td>5.0</td>\n",
       "      <td>The response is perfectly concise, providing a...</td>\n",
       "      <td>0.0</td>\n",
       "    </tr>\n",
       "    <tr>\n",
       "      <th>3</th>\n",
       "      <td>Creating a creamy homemade tomato soup is a co...</td>\n",
       "      <td>Creating homemade tomato soup includes sautéin...</td>\n",
       "      <td>Summarize the following article</td>\n",
       "      <td>Give me a TLDR. Here's an article: Creating a ...</td>\n",
       "      <td>**TLDR;** Make creamy tomato soup by sautéing ...</td>\n",
       "      <td>The response is concise, grammatically correct...</td>\n",
       "      <td>5.0</td>\n",
       "      <td>The response has a seamless logical flow, is e...</td>\n",
       "      <td>5.0</td>\n",
       "      <td>The response accurately summarizes the provide...</td>\n",
       "      <td>1.0</td>\n",
       "      <td>The response successfully provides a concise a...</td>\n",
       "      <td>5.0</td>\n",
       "      <td>The response is perfectly concise, providing a...</td>\n",
       "      <td>0.0</td>\n",
       "    </tr>\n",
       "    <tr>\n",
       "      <th>4</th>\n",
       "      <td>To bake a decadent chocolate cake from scratch...</td>\n",
       "      <td>Baking a decadent chocolate cake requires crea...</td>\n",
       "      <td>Summarize the following article</td>\n",
       "      <td>Give me a TLDR. Here's an article: To bake a d...</td>\n",
       "      <td>TLDR: Preheat oven, grease pans. Cream butter ...</td>\n",
       "      <td>The response is mostly fluent as it has very f...</td>\n",
       "      <td>4.0</td>\n",
       "      <td>The response presents a coherent summary of th...</td>\n",
       "      <td>4.0</td>\n",
       "      <td>All aspects of the response are attributable t...</td>\n",
       "      <td>1.0</td>\n",
       "      <td>The response is a good TLDR; it follows instru...</td>\n",
       "      <td>5.0</td>\n",
       "      <td>The response is concise and provides all the n...</td>\n",
       "      <td>0.0</td>\n",
       "    </tr>\n",
       "  </tbody>\n",
       "</table>\n",
       "</div>"
      ],
      "text/plain": [
       "                                             context  \\\n",
       "0  To make a classic spaghetti carbonara, start b...   \n",
       "1  Preparing a perfect risotto requires patience ...   \n",
       "2  For a flavorful grilled steak, start by choosi...   \n",
       "3  Creating a creamy homemade tomato soup is a co...   \n",
       "4  To bake a decadent chocolate cake from scratch...   \n",
       "\n",
       "                                           reference  \\\n",
       "0  The process of making spaghetti carbonara invo...   \n",
       "1  Preparing risotto entails sautéing onions and ...   \n",
       "2  Grilling a flavorful steak involves seasoning ...   \n",
       "3  Creating homemade tomato soup includes sautéin...   \n",
       "4  Baking a decadent chocolate cake requires crea...   \n",
       "\n",
       "                       instruction  \\\n",
       "0  Summarize the following article   \n",
       "1  Summarize the following article   \n",
       "2  Summarize the following article   \n",
       "3  Summarize the following article   \n",
       "4  Summarize the following article   \n",
       "\n",
       "                                              prompt  \\\n",
       "0  Give me a TLDR. Here's an article: To make a c...   \n",
       "1  Give me a TLDR. Here's an article: Preparing a...   \n",
       "2  Give me a TLDR. Here's an article: For a flavo...   \n",
       "3  Give me a TLDR. Here's an article: Creating a ...   \n",
       "4  Give me a TLDR. Here's an article: To bake a d...   \n",
       "\n",
       "                                            response  \\\n",
       "0  **TLDR;** Cook pasta, fry pancetta, mix eggs/P...   \n",
       "1  **TLDR;** Risotto needs patience! Sauté onions...   \n",
       "2  **TLDR: Get a marbled steak (ribeye/NY strip),...   \n",
       "3  **TLDR;** Make creamy tomato soup by sautéing ...   \n",
       "4  TLDR: Preheat oven, grease pans. Cream butter ...   \n",
       "\n",
       "                                 fluency/explanation  fluency/score  \\\n",
       "0  The response is mostly fluent as it presents a...            4.0   \n",
       "1  The response is fluent and accurately summariz...            5.0   \n",
       "2  The response is completely fluent as it provid...            5.0   \n",
       "3  The response is concise, grammatically correct...            5.0   \n",
       "4  The response is mostly fluent as it has very f...            4.0   \n",
       "\n",
       "                               coherence/explanation  coherence/score  \\\n",
       "0  The response is a clear and concise summary of...              4.0   \n",
       "1  The response presents a coherent summary of th...              4.0   \n",
       "2  The response is completely coherent, providing...              5.0   \n",
       "3  The response has a seamless logical flow, is e...              5.0   \n",
       "4  The response presents a coherent summary of th...              4.0   \n",
       "\n",
       "                            groundedness/explanation  groundedness/score  \\\n",
       "0  All aspects of the response are attributable t...                 1.0   \n",
       "1  The response only uses information provided in...                 1.0   \n",
       "2  All information in the TLDR is found within th...                 1.0   \n",
       "3  The response accurately summarizes the provide...                 1.0   \n",
       "4  All aspects of the response are attributable t...                 1.0   \n",
       "\n",
       "                   summarization_quality/explanation  \\\n",
       "0  The response follows instructions to provide a...   \n",
       "1  The response follows the instructions, is grou...   \n",
       "2  This response follows instructions by providin...   \n",
       "3  The response successfully provides a concise a...   \n",
       "4  The response is a good TLDR; it follows instru...   \n",
       "\n",
       "   summarization_quality/score  \\\n",
       "0                          5.0   \n",
       "1                          5.0   \n",
       "2                          5.0   \n",
       "3                          5.0   \n",
       "4                          5.0   \n",
       "\n",
       "                               verbosity/explanation  verbosity/score  \n",
       "0  The response is appropriately concise and prov...              0.0  \n",
       "1  The response provides a concise summary of the...              0.0  \n",
       "2  The response is perfectly concise, providing a...              0.0  \n",
       "3  The response is perfectly concise, providing a...              0.0  \n",
       "4  The response is concise and provides all the n...              0.0  "
      ]
     },
     "metadata": {},
     "output_type": "display_data"
    }
   ],
   "source": [
    "for title, eval_result in eval_results:\n",
    "    notebook_utils.display_eval_result(title=title, eval_result=eval_result)"
   ]
  },
  {
   "cell_type": "code",
   "execution_count": 4,
   "id": "ee265087",
   "metadata": {},
   "outputs": [
    {
     "data": {
      "text/html": [
       "<div style='white-space: pre-wrap; width: 1500px; overflow-x: auto;'><h4>prompt:</h4>Instruction: Summarize the following article. Article: To make a classic spaghetti carbonara, start by bringing a large pot of salted water to a boil. While the water is heating up, cook pancetta or guanciale in a skillet with olive oil over medium heat until it's crispy and golden brown. Once the pancetta is done, remove it from the skillet and set it aside. In the same skillet, whisk together eggs, grated Parmesan cheese, and black pepper to make the sauce. When the pasta is cooked al dente, drain it and immediately toss it in the skillet with the egg mixture, adding a splash of the pasta cooking water to create a creamy sauce.. Summary:</div>"
      ],
      "text/plain": [
       "<IPython.core.display.HTML object>"
      ]
     },
     "metadata": {},
     "output_type": "display_data"
    },
    {
     "data": {
      "text/html": [
       "<div style='white-space: pre-wrap; width: 1500px; overflow-x: auto;'><h4>response:</h4>To make spaghetti carbonara, boil salted water and cook pancetta until crispy. Whisk eggs, Parmesan, and pepper for the sauce. Toss drained pasta with the sauce and some pasta water for a creamy consistency.\n",
       "</div>"
      ],
      "text/plain": [
       "<IPython.core.display.HTML object>"
      ]
     },
     "metadata": {},
     "output_type": "display_data"
    },
    {
     "data": {
      "text/html": [
       "<div style='white-space: pre-wrap; width: 1500px; overflow-x: auto;'><h4>summarization_quality/explanation:</h4>The summary is grounded, concise, and fluent, successfully summarizing the article and following the instructions.</div>"
      ],
      "text/plain": [
       "<IPython.core.display.HTML object>"
      ]
     },
     "metadata": {},
     "output_type": "display_data"
    },
    {
     "data": {
      "text/html": [
       "<div style='white-space: pre-wrap; width: 1500px; overflow-x: auto;'><h4>summarization_quality/score:</h4>5.0</div>"
      ],
      "text/plain": [
       "<IPython.core.display.HTML object>"
      ]
     },
     "metadata": {},
     "output_type": "display_data"
    },
    {
     "data": {
      "text/html": [
       "<hr>"
      ],
      "text/plain": [
       "<IPython.core.display.HTML object>"
      ]
     },
     "metadata": {},
     "output_type": "display_data"
    },
    {
     "data": {
      "text/html": [
       "<div style='white-space: pre-wrap; width: 1500px; overflow-x: auto;'><h4>prompt:</h4>Article: For a flavorful grilled steak, start by choosing a well-marbled cut of beef like ribeye or New York strip. Season the steak generously with kosher salt and freshly ground black pepper on both sides, pressing the seasoning into the meat. Preheat a grill to high heat and brush the grates with oil to prevent sticking. Place the seasoned steak on the grill and cook for about 4-5 minutes on each side for medium-rare, or adjust the cooking time to your desired level of doneness. Let the steak rest for a few minutes before slicing against the grain and serving.. Complete this task: Summarize the following article, in one sentence. Summary:</div>"
      ],
      "text/plain": [
       "<IPython.core.display.HTML object>"
      ]
     },
     "metadata": {},
     "output_type": "display_data"
    },
    {
     "data": {
      "text/html": [
       "<div style='white-space: pre-wrap; width: 1500px; overflow-x: auto;'><h4>response:</h4>To grill a flavorful steak, choose a well-marbled cut, season generously with salt and pepper, grill on high heat for the desired doneness, and let it rest before slicing against the grain.\n",
       "</div>"
      ],
      "text/plain": [
       "<IPython.core.display.HTML object>"
      ]
     },
     "metadata": {},
     "output_type": "display_data"
    },
    {
     "data": {
      "text/html": [
       "<div style='white-space: pre-wrap; width: 1500px; overflow-x: auto;'><h4>summarization_quality/explanation:</h4>The response followed instructions by summarizing the article in one sentence, it is also grounded, concise, and fluent.</div>"
      ],
      "text/plain": [
       "<IPython.core.display.HTML object>"
      ]
     },
     "metadata": {},
     "output_type": "display_data"
    },
    {
     "data": {
      "text/html": [
       "<div style='white-space: pre-wrap; width: 1500px; overflow-x: auto;'><h4>summarization_quality/score:</h4>5.0</div>"
      ],
      "text/plain": [
       "<IPython.core.display.HTML object>"
      ]
     },
     "metadata": {},
     "output_type": "display_data"
    },
    {
     "data": {
      "text/html": [
       "<hr>"
      ],
      "text/plain": [
       "<IPython.core.display.HTML object>"
      ]
     },
     "metadata": {},
     "output_type": "display_data"
    },
    {
     "data": {
      "text/html": [
       "<div style='white-space: pre-wrap; width: 1500px; overflow-x: auto;'><h4>prompt:</h4>Give me a TLDR. Here's an article: Creating a creamy homemade tomato soup is a comforting and simple process. Begin by heating olive oil in a large pot over medium heat. Add diced onions and minced garlic to the pot and cook until they're soft and fragrant. Next, add chopped fresh tomatoes, chicken or vegetable broth, and a sprig of fresh basil to the pot. Simmer the soup for about 20-30 minutes, or until the tomatoes are tender and falling apart. Remove the basil sprig and use an immersion blender to puree the soup until smooth. Season with salt and pepper to taste before serving.. Summary:</div>"
      ],
      "text/plain": [
       "<IPython.core.display.HTML object>"
      ]
     },
     "metadata": {},
     "output_type": "display_data"
    },
    {
     "data": {
      "text/html": [
       "<div style='white-space: pre-wrap; width: 1500px; overflow-x: auto;'><h4>response:</h4>**TLDR;** Make creamy tomato soup by sautéing onions and garlic, then simmering tomatoes, broth, and basil. Blend until smooth, season, and enjoy!\n",
       "</div>"
      ],
      "text/plain": [
       "<IPython.core.display.HTML object>"
      ]
     },
     "metadata": {},
     "output_type": "display_data"
    },
    {
     "data": {
      "text/html": [
       "<div style='white-space: pre-wrap; width: 1500px; overflow-x: auto;'><h4>summarization_quality/explanation:</h4>The response successfully provides a concise and grounded TLDR summary of the provided article, accurately capturing the main steps in making creamy tomato soup.</div>"
      ],
      "text/plain": [
       "<IPython.core.display.HTML object>"
      ]
     },
     "metadata": {},
     "output_type": "display_data"
    },
    {
     "data": {
      "text/html": [
       "<div style='white-space: pre-wrap; width: 1500px; overflow-x: auto;'><h4>summarization_quality/score:</h4>5.0</div>"
      ],
      "text/plain": [
       "<IPython.core.display.HTML object>"
      ]
     },
     "metadata": {},
     "output_type": "display_data"
    },
    {
     "data": {
      "text/html": [
       "<hr>"
      ],
      "text/plain": [
       "<IPython.core.display.HTML object>"
      ]
     },
     "metadata": {},
     "output_type": "display_data"
    }
   ],
   "source": [
    "\n",
    "for title, eval_result in eval_results:\n",
    "    notebook_utils.display_explanations(eval_result, metrics=[\"summarization_quality\"])"
   ]
  },
  {
   "cell_type": "code",
   "execution_count": 5,
   "id": "163aa354",
   "metadata": {},
   "outputs": [
    {
     "data": {
      "application/vnd.plotly.v1+json": {
       "config": {
        "plotlyServerURL": "https://plot.ly"
       },
       "data": [
        {
         "fill": "toself",
         "name": "Prompt #0",
         "r": [
          5,
          4.8,
          1,
          5,
          0
         ],
         "theta": [
          "fluency",
          "coherence",
          "groundedness",
          "summarization_quality",
          "verbosity"
         ],
         "type": "scatterpolar"
        },
        {
         "fill": "toself",
         "name": "Prompt #1",
         "r": [
          5,
          4.8,
          1,
          5,
          0
         ],
         "theta": [
          "fluency",
          "coherence",
          "groundedness",
          "summarization_quality",
          "verbosity"
         ],
         "type": "scatterpolar"
        },
        {
         "fill": "toself",
         "name": "Prompt #2",
         "r": [
          4.6,
          4.4,
          1,
          5,
          0
         ],
         "theta": [
          "fluency",
          "coherence",
          "groundedness",
          "summarization_quality",
          "verbosity"
         ],
         "type": "scatterpolar"
        }
       ],
       "layout": {
        "polar": {
         "radialaxis": {
          "range": [
           0,
           5
          ],
          "visible": true
         }
        },
        "showlegend": true,
        "template": {
         "data": {
          "bar": [
           {
            "error_x": {
             "color": "#2a3f5f"
            },
            "error_y": {
             "color": "#2a3f5f"
            },
            "marker": {
             "line": {
              "color": "#E5ECF6",
              "width": 0.5
             },
             "pattern": {
              "fillmode": "overlay",
              "size": 10,
              "solidity": 0.2
             }
            },
            "type": "bar"
           }
          ],
          "barpolar": [
           {
            "marker": {
             "line": {
              "color": "#E5ECF6",
              "width": 0.5
             },
             "pattern": {
              "fillmode": "overlay",
              "size": 10,
              "solidity": 0.2
             }
            },
            "type": "barpolar"
           }
          ],
          "carpet": [
           {
            "aaxis": {
             "endlinecolor": "#2a3f5f",
             "gridcolor": "white",
             "linecolor": "white",
             "minorgridcolor": "white",
             "startlinecolor": "#2a3f5f"
            },
            "baxis": {
             "endlinecolor": "#2a3f5f",
             "gridcolor": "white",
             "linecolor": "white",
             "minorgridcolor": "white",
             "startlinecolor": "#2a3f5f"
            },
            "type": "carpet"
           }
          ],
          "choropleth": [
           {
            "colorbar": {
             "outlinewidth": 0,
             "ticks": ""
            },
            "type": "choropleth"
           }
          ],
          "contour": [
           {
            "colorbar": {
             "outlinewidth": 0,
             "ticks": ""
            },
            "colorscale": [
             [
              0,
              "#0d0887"
             ],
             [
              0.1111111111111111,
              "#46039f"
             ],
             [
              0.2222222222222222,
              "#7201a8"
             ],
             [
              0.3333333333333333,
              "#9c179e"
             ],
             [
              0.4444444444444444,
              "#bd3786"
             ],
             [
              0.5555555555555556,
              "#d8576b"
             ],
             [
              0.6666666666666666,
              "#ed7953"
             ],
             [
              0.7777777777777778,
              "#fb9f3a"
             ],
             [
              0.8888888888888888,
              "#fdca26"
             ],
             [
              1,
              "#f0f921"
             ]
            ],
            "type": "contour"
           }
          ],
          "contourcarpet": [
           {
            "colorbar": {
             "outlinewidth": 0,
             "ticks": ""
            },
            "type": "contourcarpet"
           }
          ],
          "heatmap": [
           {
            "colorbar": {
             "outlinewidth": 0,
             "ticks": ""
            },
            "colorscale": [
             [
              0,
              "#0d0887"
             ],
             [
              0.1111111111111111,
              "#46039f"
             ],
             [
              0.2222222222222222,
              "#7201a8"
             ],
             [
              0.3333333333333333,
              "#9c179e"
             ],
             [
              0.4444444444444444,
              "#bd3786"
             ],
             [
              0.5555555555555556,
              "#d8576b"
             ],
             [
              0.6666666666666666,
              "#ed7953"
             ],
             [
              0.7777777777777778,
              "#fb9f3a"
             ],
             [
              0.8888888888888888,
              "#fdca26"
             ],
             [
              1,
              "#f0f921"
             ]
            ],
            "type": "heatmap"
           }
          ],
          "histogram": [
           {
            "marker": {
             "pattern": {
              "fillmode": "overlay",
              "size": 10,
              "solidity": 0.2
             }
            },
            "type": "histogram"
           }
          ],
          "histogram2d": [
           {
            "colorbar": {
             "outlinewidth": 0,
             "ticks": ""
            },
            "colorscale": [
             [
              0,
              "#0d0887"
             ],
             [
              0.1111111111111111,
              "#46039f"
             ],
             [
              0.2222222222222222,
              "#7201a8"
             ],
             [
              0.3333333333333333,
              "#9c179e"
             ],
             [
              0.4444444444444444,
              "#bd3786"
             ],
             [
              0.5555555555555556,
              "#d8576b"
             ],
             [
              0.6666666666666666,
              "#ed7953"
             ],
             [
              0.7777777777777778,
              "#fb9f3a"
             ],
             [
              0.8888888888888888,
              "#fdca26"
             ],
             [
              1,
              "#f0f921"
             ]
            ],
            "type": "histogram2d"
           }
          ],
          "histogram2dcontour": [
           {
            "colorbar": {
             "outlinewidth": 0,
             "ticks": ""
            },
            "colorscale": [
             [
              0,
              "#0d0887"
             ],
             [
              0.1111111111111111,
              "#46039f"
             ],
             [
              0.2222222222222222,
              "#7201a8"
             ],
             [
              0.3333333333333333,
              "#9c179e"
             ],
             [
              0.4444444444444444,
              "#bd3786"
             ],
             [
              0.5555555555555556,
              "#d8576b"
             ],
             [
              0.6666666666666666,
              "#ed7953"
             ],
             [
              0.7777777777777778,
              "#fb9f3a"
             ],
             [
              0.8888888888888888,
              "#fdca26"
             ],
             [
              1,
              "#f0f921"
             ]
            ],
            "type": "histogram2dcontour"
           }
          ],
          "mesh3d": [
           {
            "colorbar": {
             "outlinewidth": 0,
             "ticks": ""
            },
            "type": "mesh3d"
           }
          ],
          "parcoords": [
           {
            "line": {
             "colorbar": {
              "outlinewidth": 0,
              "ticks": ""
             }
            },
            "type": "parcoords"
           }
          ],
          "pie": [
           {
            "automargin": true,
            "type": "pie"
           }
          ],
          "scatter": [
           {
            "fillpattern": {
             "fillmode": "overlay",
             "size": 10,
             "solidity": 0.2
            },
            "type": "scatter"
           }
          ],
          "scatter3d": [
           {
            "line": {
             "colorbar": {
              "outlinewidth": 0,
              "ticks": ""
             }
            },
            "marker": {
             "colorbar": {
              "outlinewidth": 0,
              "ticks": ""
             }
            },
            "type": "scatter3d"
           }
          ],
          "scattercarpet": [
           {
            "marker": {
             "colorbar": {
              "outlinewidth": 0,
              "ticks": ""
             }
            },
            "type": "scattercarpet"
           }
          ],
          "scattergeo": [
           {
            "marker": {
             "colorbar": {
              "outlinewidth": 0,
              "ticks": ""
             }
            },
            "type": "scattergeo"
           }
          ],
          "scattergl": [
           {
            "marker": {
             "colorbar": {
              "outlinewidth": 0,
              "ticks": ""
             }
            },
            "type": "scattergl"
           }
          ],
          "scattermap": [
           {
            "marker": {
             "colorbar": {
              "outlinewidth": 0,
              "ticks": ""
             }
            },
            "type": "scattermap"
           }
          ],
          "scattermapbox": [
           {
            "marker": {
             "colorbar": {
              "outlinewidth": 0,
              "ticks": ""
             }
            },
            "type": "scattermapbox"
           }
          ],
          "scatterpolar": [
           {
            "marker": {
             "colorbar": {
              "outlinewidth": 0,
              "ticks": ""
             }
            },
            "type": "scatterpolar"
           }
          ],
          "scatterpolargl": [
           {
            "marker": {
             "colorbar": {
              "outlinewidth": 0,
              "ticks": ""
             }
            },
            "type": "scatterpolargl"
           }
          ],
          "scatterternary": [
           {
            "marker": {
             "colorbar": {
              "outlinewidth": 0,
              "ticks": ""
             }
            },
            "type": "scatterternary"
           }
          ],
          "surface": [
           {
            "colorbar": {
             "outlinewidth": 0,
             "ticks": ""
            },
            "colorscale": [
             [
              0,
              "#0d0887"
             ],
             [
              0.1111111111111111,
              "#46039f"
             ],
             [
              0.2222222222222222,
              "#7201a8"
             ],
             [
              0.3333333333333333,
              "#9c179e"
             ],
             [
              0.4444444444444444,
              "#bd3786"
             ],
             [
              0.5555555555555556,
              "#d8576b"
             ],
             [
              0.6666666666666666,
              "#ed7953"
             ],
             [
              0.7777777777777778,
              "#fb9f3a"
             ],
             [
              0.8888888888888888,
              "#fdca26"
             ],
             [
              1,
              "#f0f921"
             ]
            ],
            "type": "surface"
           }
          ],
          "table": [
           {
            "cells": {
             "fill": {
              "color": "#EBF0F8"
             },
             "line": {
              "color": "white"
             }
            },
            "header": {
             "fill": {
              "color": "#C8D4E3"
             },
             "line": {
              "color": "white"
             }
            },
            "type": "table"
           }
          ]
         },
         "layout": {
          "annotationdefaults": {
           "arrowcolor": "#2a3f5f",
           "arrowhead": 0,
           "arrowwidth": 1
          },
          "autotypenumbers": "strict",
          "coloraxis": {
           "colorbar": {
            "outlinewidth": 0,
            "ticks": ""
           }
          },
          "colorscale": {
           "diverging": [
            [
             0,
             "#8e0152"
            ],
            [
             0.1,
             "#c51b7d"
            ],
            [
             0.2,
             "#de77ae"
            ],
            [
             0.3,
             "#f1b6da"
            ],
            [
             0.4,
             "#fde0ef"
            ],
            [
             0.5,
             "#f7f7f7"
            ],
            [
             0.6,
             "#e6f5d0"
            ],
            [
             0.7,
             "#b8e186"
            ],
            [
             0.8,
             "#7fbc41"
            ],
            [
             0.9,
             "#4d9221"
            ],
            [
             1,
             "#276419"
            ]
           ],
           "sequential": [
            [
             0,
             "#0d0887"
            ],
            [
             0.1111111111111111,
             "#46039f"
            ],
            [
             0.2222222222222222,
             "#7201a8"
            ],
            [
             0.3333333333333333,
             "#9c179e"
            ],
            [
             0.4444444444444444,
             "#bd3786"
            ],
            [
             0.5555555555555556,
             "#d8576b"
            ],
            [
             0.6666666666666666,
             "#ed7953"
            ],
            [
             0.7777777777777778,
             "#fb9f3a"
            ],
            [
             0.8888888888888888,
             "#fdca26"
            ],
            [
             1,
             "#f0f921"
            ]
           ],
           "sequentialminus": [
            [
             0,
             "#0d0887"
            ],
            [
             0.1111111111111111,
             "#46039f"
            ],
            [
             0.2222222222222222,
             "#7201a8"
            ],
            [
             0.3333333333333333,
             "#9c179e"
            ],
            [
             0.4444444444444444,
             "#bd3786"
            ],
            [
             0.5555555555555556,
             "#d8576b"
            ],
            [
             0.6666666666666666,
             "#ed7953"
            ],
            [
             0.7777777777777778,
             "#fb9f3a"
            ],
            [
             0.8888888888888888,
             "#fdca26"
            ],
            [
             1,
             "#f0f921"
            ]
           ]
          },
          "colorway": [
           "#636efa",
           "#EF553B",
           "#00cc96",
           "#ab63fa",
           "#FFA15A",
           "#19d3f3",
           "#FF6692",
           "#B6E880",
           "#FF97FF",
           "#FECB52"
          ],
          "font": {
           "color": "#2a3f5f"
          },
          "geo": {
           "bgcolor": "white",
           "lakecolor": "white",
           "landcolor": "#E5ECF6",
           "showlakes": true,
           "showland": true,
           "subunitcolor": "white"
          },
          "hoverlabel": {
           "align": "left"
          },
          "hovermode": "closest",
          "mapbox": {
           "style": "light"
          },
          "paper_bgcolor": "white",
          "plot_bgcolor": "#E5ECF6",
          "polar": {
           "angularaxis": {
            "gridcolor": "white",
            "linecolor": "white",
            "ticks": ""
           },
           "bgcolor": "#E5ECF6",
           "radialaxis": {
            "gridcolor": "white",
            "linecolor": "white",
            "ticks": ""
           }
          },
          "scene": {
           "xaxis": {
            "backgroundcolor": "#E5ECF6",
            "gridcolor": "white",
            "gridwidth": 2,
            "linecolor": "white",
            "showbackground": true,
            "ticks": "",
            "zerolinecolor": "white"
           },
           "yaxis": {
            "backgroundcolor": "#E5ECF6",
            "gridcolor": "white",
            "gridwidth": 2,
            "linecolor": "white",
            "showbackground": true,
            "ticks": "",
            "zerolinecolor": "white"
           },
           "zaxis": {
            "backgroundcolor": "#E5ECF6",
            "gridcolor": "white",
            "gridwidth": 2,
            "linecolor": "white",
            "showbackground": true,
            "ticks": "",
            "zerolinecolor": "white"
           }
          },
          "shapedefaults": {
           "line": {
            "color": "#2a3f5f"
           }
          },
          "ternary": {
           "aaxis": {
            "gridcolor": "white",
            "linecolor": "white",
            "ticks": ""
           },
           "baxis": {
            "gridcolor": "white",
            "linecolor": "white",
            "ticks": ""
           },
           "bgcolor": "#E5ECF6",
           "caxis": {
            "gridcolor": "white",
            "linecolor": "white",
            "ticks": ""
           }
          },
          "title": {
           "x": 0.05
          },
          "xaxis": {
           "automargin": true,
           "gridcolor": "white",
           "linecolor": "white",
           "ticks": "",
           "title": {
            "standoff": 15
           },
           "zerolinecolor": "white",
           "zerolinewidth": 2
          },
          "yaxis": {
           "automargin": true,
           "gridcolor": "white",
           "linecolor": "white",
           "ticks": "",
           "title": {
            "standoff": 15
           },
           "zerolinecolor": "white",
           "zerolinewidth": 2
          }
         }
        }
       }
      }
     },
     "metadata": {},
     "output_type": "display_data"
    },
    {
     "data": {
      "application/vnd.plotly.v1+json": {
       "config": {
        "plotlyServerURL": "https://plot.ly"
       },
       "data": [
        {
         "name": "Prompt #0",
         "type": "bar",
         "x": [
          "fluency/mean",
          "coherence/mean",
          "groundedness/mean",
          "summarization_quality/mean",
          "verbosity/mean"
         ],
         "y": [
          5,
          4.8,
          1,
          5,
          0
         ]
        },
        {
         "name": "Prompt #1",
         "type": "bar",
         "x": [
          "fluency/mean",
          "coherence/mean",
          "groundedness/mean",
          "summarization_quality/mean",
          "verbosity/mean"
         ],
         "y": [
          5,
          4.8,
          1,
          5,
          0
         ]
        },
        {
         "name": "Prompt #2",
         "type": "bar",
         "x": [
          "fluency/mean",
          "coherence/mean",
          "groundedness/mean",
          "summarization_quality/mean",
          "verbosity/mean"
         ],
         "y": [
          4.6,
          4.4,
          1,
          5,
          0
         ]
        }
       ],
       "layout": {
        "barmode": "group",
        "showlegend": true,
        "template": {
         "data": {
          "bar": [
           {
            "error_x": {
             "color": "#2a3f5f"
            },
            "error_y": {
             "color": "#2a3f5f"
            },
            "marker": {
             "line": {
              "color": "#E5ECF6",
              "width": 0.5
             },
             "pattern": {
              "fillmode": "overlay",
              "size": 10,
              "solidity": 0.2
             }
            },
            "type": "bar"
           }
          ],
          "barpolar": [
           {
            "marker": {
             "line": {
              "color": "#E5ECF6",
              "width": 0.5
             },
             "pattern": {
              "fillmode": "overlay",
              "size": 10,
              "solidity": 0.2
             }
            },
            "type": "barpolar"
           }
          ],
          "carpet": [
           {
            "aaxis": {
             "endlinecolor": "#2a3f5f",
             "gridcolor": "white",
             "linecolor": "white",
             "minorgridcolor": "white",
             "startlinecolor": "#2a3f5f"
            },
            "baxis": {
             "endlinecolor": "#2a3f5f",
             "gridcolor": "white",
             "linecolor": "white",
             "minorgridcolor": "white",
             "startlinecolor": "#2a3f5f"
            },
            "type": "carpet"
           }
          ],
          "choropleth": [
           {
            "colorbar": {
             "outlinewidth": 0,
             "ticks": ""
            },
            "type": "choropleth"
           }
          ],
          "contour": [
           {
            "colorbar": {
             "outlinewidth": 0,
             "ticks": ""
            },
            "colorscale": [
             [
              0,
              "#0d0887"
             ],
             [
              0.1111111111111111,
              "#46039f"
             ],
             [
              0.2222222222222222,
              "#7201a8"
             ],
             [
              0.3333333333333333,
              "#9c179e"
             ],
             [
              0.4444444444444444,
              "#bd3786"
             ],
             [
              0.5555555555555556,
              "#d8576b"
             ],
             [
              0.6666666666666666,
              "#ed7953"
             ],
             [
              0.7777777777777778,
              "#fb9f3a"
             ],
             [
              0.8888888888888888,
              "#fdca26"
             ],
             [
              1,
              "#f0f921"
             ]
            ],
            "type": "contour"
           }
          ],
          "contourcarpet": [
           {
            "colorbar": {
             "outlinewidth": 0,
             "ticks": ""
            },
            "type": "contourcarpet"
           }
          ],
          "heatmap": [
           {
            "colorbar": {
             "outlinewidth": 0,
             "ticks": ""
            },
            "colorscale": [
             [
              0,
              "#0d0887"
             ],
             [
              0.1111111111111111,
              "#46039f"
             ],
             [
              0.2222222222222222,
              "#7201a8"
             ],
             [
              0.3333333333333333,
              "#9c179e"
             ],
             [
              0.4444444444444444,
              "#bd3786"
             ],
             [
              0.5555555555555556,
              "#d8576b"
             ],
             [
              0.6666666666666666,
              "#ed7953"
             ],
             [
              0.7777777777777778,
              "#fb9f3a"
             ],
             [
              0.8888888888888888,
              "#fdca26"
             ],
             [
              1,
              "#f0f921"
             ]
            ],
            "type": "heatmap"
           }
          ],
          "histogram": [
           {
            "marker": {
             "pattern": {
              "fillmode": "overlay",
              "size": 10,
              "solidity": 0.2
             }
            },
            "type": "histogram"
           }
          ],
          "histogram2d": [
           {
            "colorbar": {
             "outlinewidth": 0,
             "ticks": ""
            },
            "colorscale": [
             [
              0,
              "#0d0887"
             ],
             [
              0.1111111111111111,
              "#46039f"
             ],
             [
              0.2222222222222222,
              "#7201a8"
             ],
             [
              0.3333333333333333,
              "#9c179e"
             ],
             [
              0.4444444444444444,
              "#bd3786"
             ],
             [
              0.5555555555555556,
              "#d8576b"
             ],
             [
              0.6666666666666666,
              "#ed7953"
             ],
             [
              0.7777777777777778,
              "#fb9f3a"
             ],
             [
              0.8888888888888888,
              "#fdca26"
             ],
             [
              1,
              "#f0f921"
             ]
            ],
            "type": "histogram2d"
           }
          ],
          "histogram2dcontour": [
           {
            "colorbar": {
             "outlinewidth": 0,
             "ticks": ""
            },
            "colorscale": [
             [
              0,
              "#0d0887"
             ],
             [
              0.1111111111111111,
              "#46039f"
             ],
             [
              0.2222222222222222,
              "#7201a8"
             ],
             [
              0.3333333333333333,
              "#9c179e"
             ],
             [
              0.4444444444444444,
              "#bd3786"
             ],
             [
              0.5555555555555556,
              "#d8576b"
             ],
             [
              0.6666666666666666,
              "#ed7953"
             ],
             [
              0.7777777777777778,
              "#fb9f3a"
             ],
             [
              0.8888888888888888,
              "#fdca26"
             ],
             [
              1,
              "#f0f921"
             ]
            ],
            "type": "histogram2dcontour"
           }
          ],
          "mesh3d": [
           {
            "colorbar": {
             "outlinewidth": 0,
             "ticks": ""
            },
            "type": "mesh3d"
           }
          ],
          "parcoords": [
           {
            "line": {
             "colorbar": {
              "outlinewidth": 0,
              "ticks": ""
             }
            },
            "type": "parcoords"
           }
          ],
          "pie": [
           {
            "automargin": true,
            "type": "pie"
           }
          ],
          "scatter": [
           {
            "fillpattern": {
             "fillmode": "overlay",
             "size": 10,
             "solidity": 0.2
            },
            "type": "scatter"
           }
          ],
          "scatter3d": [
           {
            "line": {
             "colorbar": {
              "outlinewidth": 0,
              "ticks": ""
             }
            },
            "marker": {
             "colorbar": {
              "outlinewidth": 0,
              "ticks": ""
             }
            },
            "type": "scatter3d"
           }
          ],
          "scattercarpet": [
           {
            "marker": {
             "colorbar": {
              "outlinewidth": 0,
              "ticks": ""
             }
            },
            "type": "scattercarpet"
           }
          ],
          "scattergeo": [
           {
            "marker": {
             "colorbar": {
              "outlinewidth": 0,
              "ticks": ""
             }
            },
            "type": "scattergeo"
           }
          ],
          "scattergl": [
           {
            "marker": {
             "colorbar": {
              "outlinewidth": 0,
              "ticks": ""
             }
            },
            "type": "scattergl"
           }
          ],
          "scattermap": [
           {
            "marker": {
             "colorbar": {
              "outlinewidth": 0,
              "ticks": ""
             }
            },
            "type": "scattermap"
           }
          ],
          "scattermapbox": [
           {
            "marker": {
             "colorbar": {
              "outlinewidth": 0,
              "ticks": ""
             }
            },
            "type": "scattermapbox"
           }
          ],
          "scatterpolar": [
           {
            "marker": {
             "colorbar": {
              "outlinewidth": 0,
              "ticks": ""
             }
            },
            "type": "scatterpolar"
           }
          ],
          "scatterpolargl": [
           {
            "marker": {
             "colorbar": {
              "outlinewidth": 0,
              "ticks": ""
             }
            },
            "type": "scatterpolargl"
           }
          ],
          "scatterternary": [
           {
            "marker": {
             "colorbar": {
              "outlinewidth": 0,
              "ticks": ""
             }
            },
            "type": "scatterternary"
           }
          ],
          "surface": [
           {
            "colorbar": {
             "outlinewidth": 0,
             "ticks": ""
            },
            "colorscale": [
             [
              0,
              "#0d0887"
             ],
             [
              0.1111111111111111,
              "#46039f"
             ],
             [
              0.2222222222222222,
              "#7201a8"
             ],
             [
              0.3333333333333333,
              "#9c179e"
             ],
             [
              0.4444444444444444,
              "#bd3786"
             ],
             [
              0.5555555555555556,
              "#d8576b"
             ],
             [
              0.6666666666666666,
              "#ed7953"
             ],
             [
              0.7777777777777778,
              "#fb9f3a"
             ],
             [
              0.8888888888888888,
              "#fdca26"
             ],
             [
              1,
              "#f0f921"
             ]
            ],
            "type": "surface"
           }
          ],
          "table": [
           {
            "cells": {
             "fill": {
              "color": "#EBF0F8"
             },
             "line": {
              "color": "white"
             }
            },
            "header": {
             "fill": {
              "color": "#C8D4E3"
             },
             "line": {
              "color": "white"
             }
            },
            "type": "table"
           }
          ]
         },
         "layout": {
          "annotationdefaults": {
           "arrowcolor": "#2a3f5f",
           "arrowhead": 0,
           "arrowwidth": 1
          },
          "autotypenumbers": "strict",
          "coloraxis": {
           "colorbar": {
            "outlinewidth": 0,
            "ticks": ""
           }
          },
          "colorscale": {
           "diverging": [
            [
             0,
             "#8e0152"
            ],
            [
             0.1,
             "#c51b7d"
            ],
            [
             0.2,
             "#de77ae"
            ],
            [
             0.3,
             "#f1b6da"
            ],
            [
             0.4,
             "#fde0ef"
            ],
            [
             0.5,
             "#f7f7f7"
            ],
            [
             0.6,
             "#e6f5d0"
            ],
            [
             0.7,
             "#b8e186"
            ],
            [
             0.8,
             "#7fbc41"
            ],
            [
             0.9,
             "#4d9221"
            ],
            [
             1,
             "#276419"
            ]
           ],
           "sequential": [
            [
             0,
             "#0d0887"
            ],
            [
             0.1111111111111111,
             "#46039f"
            ],
            [
             0.2222222222222222,
             "#7201a8"
            ],
            [
             0.3333333333333333,
             "#9c179e"
            ],
            [
             0.4444444444444444,
             "#bd3786"
            ],
            [
             0.5555555555555556,
             "#d8576b"
            ],
            [
             0.6666666666666666,
             "#ed7953"
            ],
            [
             0.7777777777777778,
             "#fb9f3a"
            ],
            [
             0.8888888888888888,
             "#fdca26"
            ],
            [
             1,
             "#f0f921"
            ]
           ],
           "sequentialminus": [
            [
             0,
             "#0d0887"
            ],
            [
             0.1111111111111111,
             "#46039f"
            ],
            [
             0.2222222222222222,
             "#7201a8"
            ],
            [
             0.3333333333333333,
             "#9c179e"
            ],
            [
             0.4444444444444444,
             "#bd3786"
            ],
            [
             0.5555555555555556,
             "#d8576b"
            ],
            [
             0.6666666666666666,
             "#ed7953"
            ],
            [
             0.7777777777777778,
             "#fb9f3a"
            ],
            [
             0.8888888888888888,
             "#fdca26"
            ],
            [
             1,
             "#f0f921"
            ]
           ]
          },
          "colorway": [
           "#636efa",
           "#EF553B",
           "#00cc96",
           "#ab63fa",
           "#FFA15A",
           "#19d3f3",
           "#FF6692",
           "#B6E880",
           "#FF97FF",
           "#FECB52"
          ],
          "font": {
           "color": "#2a3f5f"
          },
          "geo": {
           "bgcolor": "white",
           "lakecolor": "white",
           "landcolor": "#E5ECF6",
           "showlakes": true,
           "showland": true,
           "subunitcolor": "white"
          },
          "hoverlabel": {
           "align": "left"
          },
          "hovermode": "closest",
          "mapbox": {
           "style": "light"
          },
          "paper_bgcolor": "white",
          "plot_bgcolor": "#E5ECF6",
          "polar": {
           "angularaxis": {
            "gridcolor": "white",
            "linecolor": "white",
            "ticks": ""
           },
           "bgcolor": "#E5ECF6",
           "radialaxis": {
            "gridcolor": "white",
            "linecolor": "white",
            "ticks": ""
           }
          },
          "scene": {
           "xaxis": {
            "backgroundcolor": "#E5ECF6",
            "gridcolor": "white",
            "gridwidth": 2,
            "linecolor": "white",
            "showbackground": true,
            "ticks": "",
            "zerolinecolor": "white"
           },
           "yaxis": {
            "backgroundcolor": "#E5ECF6",
            "gridcolor": "white",
            "gridwidth": 2,
            "linecolor": "white",
            "showbackground": true,
            "ticks": "",
            "zerolinecolor": "white"
           },
           "zaxis": {
            "backgroundcolor": "#E5ECF6",
            "gridcolor": "white",
            "gridwidth": 2,
            "linecolor": "white",
            "showbackground": true,
            "ticks": "",
            "zerolinecolor": "white"
           }
          },
          "shapedefaults": {
           "line": {
            "color": "#2a3f5f"
           }
          },
          "ternary": {
           "aaxis": {
            "gridcolor": "white",
            "linecolor": "white",
            "ticks": ""
           },
           "baxis": {
            "gridcolor": "white",
            "linecolor": "white",
            "ticks": ""
           },
           "bgcolor": "#E5ECF6",
           "caxis": {
            "gridcolor": "white",
            "linecolor": "white",
            "ticks": ""
           }
          },
          "title": {
           "x": 0.05
          },
          "xaxis": {
           "automargin": true,
           "gridcolor": "white",
           "linecolor": "white",
           "ticks": "",
           "title": {
            "standoff": 15
           },
           "zerolinecolor": "white",
           "zerolinewidth": 2
          },
          "yaxis": {
           "automargin": true,
           "gridcolor": "white",
           "linecolor": "white",
           "ticks": "",
           "title": {
            "standoff": 15
           },
           "zerolinecolor": "white",
           "zerolinewidth": 2
          }
         }
        }
       }
      }
     },
     "metadata": {},
     "output_type": "display_data"
    }
   ],
   "source": [
    "notebook_utils.display_radar_plot(\n",
    "    eval_results,\n",
    "    metrics=metrics,\n",
    ")\n",
    "notebook_utils.display_bar_plot(\n",
    "    eval_results,\n",
    "    metrics=metrics,\n",
    ")"
   ]
  }
 ],
 "metadata": {
  "kernelspec": {
   "display_name": ".venv",
   "language": "python",
   "name": "python3"
  },
  "language_info": {
   "codemirror_mode": {
    "name": "ipython",
    "version": 3
   },
   "file_extension": ".py",
   "mimetype": "text/x-python",
   "name": "python",
   "nbconvert_exporter": "python",
   "pygments_lexer": "ipython3",
   "version": "3.13.3"
  }
 },
 "nbformat": 4,
 "nbformat_minor": 5
}
