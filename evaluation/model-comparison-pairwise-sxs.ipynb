{
 "cells": [
  {
   "cell_type": "code",
   "execution_count": 1,
   "id": "fc68feef",
   "metadata": {},
   "outputs": [],
   "source": [
    "import inspect\n",
    "\n",
    "import pandas as pd\n",
    "from vertexai.evaluation import EvalTask, MetricPromptTemplateExamples, PairwiseMetric\n",
    "from vertexai.generative_models import GenerativeModel, HarmBlockThreshold, HarmCategory\n",
    "from vertexai.preview.evaluation import notebook_utils"
   ]
  },
  {
   "cell_type": "code",
   "execution_count": 6,
   "id": "b14487b8",
   "metadata": {},
   "outputs": [],
   "source": [
    "\n",
    "instruction = \"Summarize the following article\"\n",
    "\n",
    "context = [\n",
    "    \"To make a classic spaghetti carbonara, start by bringing a large pot of salted water to a boil. While the water is heating up, cook pancetta or guanciale in a skillet with olive oil over medium heat until it's crispy and golden brown. Once the pancetta is done, remove it from the skillet and set it aside. In the same skillet, whisk together eggs, grated Parmesan cheese, and black pepper to make the sauce. When the pasta is cooked al dente, drain it and immediately toss it in the skillet with the egg mixture, adding a splash of the pasta cooking water to create a creamy sauce.\",\n",
    "    \"Preparing a perfect risotto requires patience and attention to detail. Begin by heating butter in a large, heavy-bottomed pot over medium heat. Add finely chopped onions and minced garlic to the pot, and cook until they're soft and translucent, about 5 minutes. Next, add Arborio rice to the pot and cook, stirring constantly, until the grains are coated with the butter and begin to toast slightly. Pour in a splash of white wine and cook until it's absorbed. From there, gradually add hot chicken or vegetable broth to the rice, stirring frequently, until the risotto is creamy and the rice is tender with a slight bite.\",\n",
    "    \"For a flavorful grilled steak, start by choosing a well-marbled cut of beef like ribeye or New York strip. Season the steak generously with kosher salt and freshly ground black pepper on both sides, pressing the seasoning into the meat. Preheat a grill to high heat and brush the grates with oil to prevent sticking. Place the seasoned steak on the grill and cook for about 4-5 minutes on each side for medium-rare, or adjust the cooking time to your desired level of doneness. Let the steak rest for a few minutes before slicing against the grain and serving.\",\n",
    "    \"Creating a creamy homemade tomato soup is a comforting and simple process. Begin by heating olive oil in a large pot over medium heat. Add diced onions and minced garlic to the pot and cook until they're soft and fragrant. Next, add chopped fresh tomatoes, chicken or vegetable broth, and a sprig of fresh basil to the pot. Simmer the soup for about 20-30 minutes, or until the tomatoes are tender and falling apart. Remove the basil sprig and use an immersion blender to puree the soup until smooth. Season with salt and pepper to taste before serving.\",\n",
    "    \"To bake a decadent chocolate cake from scratch, start by preheating your oven to 350°F (175°C) and greasing and flouring two 9-inch round cake pans. In a large mixing bowl, cream together softened butter and granulated sugar until light and fluffy. Beat in eggs one at a time, making sure each egg is fully incorporated before adding the next. In a separate bowl, sift together all-purpose flour, cocoa powder, baking powder, baking soda, and salt. Divide the batter evenly between the prepared cake pans and bake for 25-30 minutes, or until a toothpick inserted into the center comes out clean.\",\n",
    "]\n",
    "\n",
    "reference = [\n",
    "    \"The process of making spaghetti carbonara involves boiling pasta, crisping pancetta or guanciale, whisking together eggs and Parmesan cheese, and tossing everything together to create a creamy sauce.\",\n",
    "    \"Preparing risotto entails sautéing onions and garlic, toasting Arborio rice, adding wine and broth gradually, and stirring until creamy and tender.\",\n",
    "    \"Grilling a flavorful steak involves seasoning generously, preheating the grill, cooking to desired doneness, and letting it rest before slicing.\",\n",
    "    \"Creating homemade tomato soup includes sautéing onions and garlic, simmering with tomatoes and broth, pureeing until smooth, and seasoning to taste.\",\n",
    "    \"Baking a decadent chocolate cake requires creaming butter and sugar, beating in eggs and alternating dry ingredients with buttermilk before baking until done.\",\n",
    "]\n",
    "\n",
    "\n",
    "eval_dataset = pd.DataFrame(\n",
    "    {\n",
    "        \"context\": context,\n",
    "        \"instruction\": [instruction] * len(context),\n",
    "        \"reference\": reference,\n",
    "    }\n",
    ")"
   ]
  },
  {
   "cell_type": "code",
   "execution_count": null,
   "id": "781defee",
   "metadata": {},
   "outputs": [],
   "source": [
    "prompt_template = \"{instruction}. Article: {context}. Summary:\""
   ]
  },
  {
   "cell_type": "code",
   "execution_count": 25,
   "id": "e2277449",
   "metadata": {},
   "outputs": [
    {
     "data": {
      "text/html": [
       "\n",
       "        \n",
       "    <link rel=\"stylesheet\" href=\"https://fonts.googleapis.com/icon?family=Material+Icons\">\n",
       "    <style>\n",
       "      .view-vertex-resource,\n",
       "      .view-vertex-resource:hover,\n",
       "      .view-vertex-resource:visited {\n",
       "        position: relative;\n",
       "        display: inline-flex;\n",
       "        flex-direction: row;\n",
       "        height: 32px;\n",
       "        padding: 0 12px;\n",
       "          margin: 4px 18px;\n",
       "        gap: 4px;\n",
       "        border-radius: 4px;\n",
       "\n",
       "        align-items: center;\n",
       "        justify-content: center;\n",
       "        background-color: rgb(255, 255, 255);\n",
       "        color: rgb(51, 103, 214);\n",
       "\n",
       "        font-family: Roboto,\"Helvetica Neue\",sans-serif;\n",
       "        font-size: 13px;\n",
       "        font-weight: 500;\n",
       "        text-transform: uppercase;\n",
       "        text-decoration: none !important;\n",
       "\n",
       "        transition: box-shadow 280ms cubic-bezier(0.4, 0, 0.2, 1) 0s;\n",
       "        box-shadow: 0px 3px 1px -2px rgba(0,0,0,0.2), 0px 2px 2px 0px rgba(0,0,0,0.14), 0px 1px 5px 0px rgba(0,0,0,0.12);\n",
       "      }\n",
       "      .view-vertex-resource:active {\n",
       "        box-shadow: 0px 5px 5px -3px rgba(0,0,0,0.2),0px 8px 10px 1px rgba(0,0,0,0.14),0px 3px 14px 2px rgba(0,0,0,0.12);\n",
       "      }\n",
       "      .view-vertex-resource:active .view-vertex-ripple::before {\n",
       "        position: absolute;\n",
       "        top: 0;\n",
       "        bottom: 0;\n",
       "        left: 0;\n",
       "        right: 0;\n",
       "        border-radius: 4px;\n",
       "        pointer-events: none;\n",
       "\n",
       "        content: '';\n",
       "        background-color: rgb(51, 103, 214);\n",
       "        opacity: 0.12;\n",
       "      }\n",
       "      .view-vertex-icon {\n",
       "        font-size: 18px;\n",
       "      }\n",
       "    </style>\n",
       "  \n",
       "        <a class=\"view-vertex-resource\" id=\"view-vertex-resource-cfc11ea8-326b-4587-8dd0-6f435b8d8916\" href=\"#view-view-vertex-resource-cfc11ea8-326b-4587-8dd0-6f435b8d8916\">\n",
       "          <span class=\"material-icons view-vertex-icon\">science</span>\n",
       "          <span>View Experiment</span>\n",
       "        </a>\n",
       "        \n",
       "        <script>\n",
       "          (function () {\n",
       "            const link = document.getElementById('view-vertex-resource-cfc11ea8-326b-4587-8dd0-6f435b8d8916');\n",
       "            link.addEventListener('click', (e) => {\n",
       "              if (window.google?.colab?.openUrl) {\n",
       "                window.google.colab.openUrl('https://console.cloud.google.com/vertex-ai/experiments/locations/us-central1/experiments/model-selection/runs?project=sascha-playground-doit');\n",
       "              } else {\n",
       "                window.open('https://console.cloud.google.com/vertex-ai/experiments/locations/us-central1/experiments/model-selection/runs?project=sascha-playground-doit', '_blank');\n",
       "              }\n",
       "              e.stopPropagation();\n",
       "              e.preventDefault();\n",
       "            });\n",
       "          })();\n",
       "        </script>\n",
       "    "
      ],
      "text/plain": [
       "<IPython.core.display.HTML object>"
      ]
     },
     "metadata": {},
     "output_type": "display_data"
    },
    {
     "name": "stdout",
     "output_type": "stream",
     "text": [
      "Associating projects/234439745674/locations/us-central1/metadataStores/default/contexts/model-selection-ae743e50-e5dc-4eb9-b09f-70a323fb3301 to Experiment: model-selection\n"
     ]
    },
    {
     "data": {
      "text/html": [
       "\n",
       "        \n",
       "    <link rel=\"stylesheet\" href=\"https://fonts.googleapis.com/icon?family=Material+Icons\">\n",
       "    <style>\n",
       "      .view-vertex-resource,\n",
       "      .view-vertex-resource:hover,\n",
       "      .view-vertex-resource:visited {\n",
       "        position: relative;\n",
       "        display: inline-flex;\n",
       "        flex-direction: row;\n",
       "        height: 32px;\n",
       "        padding: 0 12px;\n",
       "          margin: 4px 18px;\n",
       "        gap: 4px;\n",
       "        border-radius: 4px;\n",
       "\n",
       "        align-items: center;\n",
       "        justify-content: center;\n",
       "        background-color: rgb(255, 255, 255);\n",
       "        color: rgb(51, 103, 214);\n",
       "\n",
       "        font-family: Roboto,\"Helvetica Neue\",sans-serif;\n",
       "        font-size: 13px;\n",
       "        font-weight: 500;\n",
       "        text-transform: uppercase;\n",
       "        text-decoration: none !important;\n",
       "\n",
       "        transition: box-shadow 280ms cubic-bezier(0.4, 0, 0.2, 1) 0s;\n",
       "        box-shadow: 0px 3px 1px -2px rgba(0,0,0,0.2), 0px 2px 2px 0px rgba(0,0,0,0.14), 0px 1px 5px 0px rgba(0,0,0,0.12);\n",
       "      }\n",
       "      .view-vertex-resource:active {\n",
       "        box-shadow: 0px 5px 5px -3px rgba(0,0,0,0.2),0px 8px 10px 1px rgba(0,0,0,0.14),0px 3px 14px 2px rgba(0,0,0,0.12);\n",
       "      }\n",
       "      .view-vertex-resource:active .view-vertex-ripple::before {\n",
       "        position: absolute;\n",
       "        top: 0;\n",
       "        bottom: 0;\n",
       "        left: 0;\n",
       "        right: 0;\n",
       "        border-radius: 4px;\n",
       "        pointer-events: none;\n",
       "\n",
       "        content: '';\n",
       "        background-color: rgb(51, 103, 214);\n",
       "        opacity: 0.12;\n",
       "      }\n",
       "      .view-vertex-icon {\n",
       "        font-size: 18px;\n",
       "      }\n",
       "    </style>\n",
       "  \n",
       "        <a class=\"view-vertex-resource\" id=\"view-vertex-resource-9b31effa-fa9c-4825-b1f3-7cb78d0b1ff3\" href=\"#view-view-vertex-resource-9b31effa-fa9c-4825-b1f3-7cb78d0b1ff3\">\n",
       "          <span class=\"material-icons view-vertex-icon\">science</span>\n",
       "          <span>View Experiment Run</span>\n",
       "        </a>\n",
       "        \n",
       "        <script>\n",
       "          (function () {\n",
       "            const link = document.getElementById('view-vertex-resource-9b31effa-fa9c-4825-b1f3-7cb78d0b1ff3');\n",
       "            link.addEventListener('click', (e) => {\n",
       "              if (window.google?.colab?.openUrl) {\n",
       "                window.google.colab.openUrl('https://console.cloud.google.com/vertex-ai/experiments/locations/us-central1/experiments/model-selection/runs/model-selection-ae743e50-e5dc-4eb9-b09f-70a323fb3301?project=sascha-playground-doit');\n",
       "              } else {\n",
       "                window.open('https://console.cloud.google.com/vertex-ai/experiments/locations/us-central1/experiments/model-selection/runs/model-selection-ae743e50-e5dc-4eb9-b09f-70a323fb3301?project=sascha-playground-doit', '_blank');\n",
       "              }\n",
       "              e.stopPropagation();\n",
       "              e.preventDefault();\n",
       "            });\n",
       "          })();\n",
       "        </script>\n",
       "    "
      ],
      "text/plain": [
       "<IPython.core.display.HTML object>"
      ]
     },
     "metadata": {},
     "output_type": "display_data"
    },
    {
     "name": "stdout",
     "output_type": "stream",
     "text": [
      "Logging Eval Experiment metadata: {'prompt_template': '{instruction}. Article: {context}. Summary:', 'model_name': 'publishers/google/models/gemini-2.5-flash-preview-04-17'}\n",
      "Assembling prompts from the `prompt_template`. The `prompt` column in the `EvalResult.metrics_table` has the assembled prompts used for model response generation.\n",
      "Generating a total of 5 responses from Gemini model gemini-2.5-flash-preview-04-17.\n"
     ]
    },
    {
     "name": "stderr",
     "output_type": "stream",
     "text": [
      "100%|██████████| 5/5 [00:04<00:00,  1.15it/s]"
     ]
    },
    {
     "name": "stdout",
     "output_type": "stream",
     "text": [
      "All 5 responses are successfully generated from Gemini model gemini-2.5-flash-preview-04-17.\n",
      "Multithreaded Batch Inference took: 4.363047083003039 seconds.\n",
      "Generating a total of 5 responses from Gemini model gemini-2.0-flash.\n"
     ]
    },
    {
     "name": "stderr",
     "output_type": "stream",
     "text": [
      "\n",
      "100%|██████████| 5/5 [00:01<00:00,  2.82it/s]"
     ]
    },
    {
     "name": "stdout",
     "output_type": "stream",
     "text": [
      "All 5 responses are successfully generated from Gemini model gemini-2.0-flash.\n",
      "Multithreaded Batch Inference took: 1.7743426669985638 seconds.\n",
      "Computing metrics with a total of 5 Vertex Gen AI Evaluation Service API requests.\n"
     ]
    },
    {
     "name": "stderr",
     "output_type": "stream",
     "text": [
      "\n",
      "100%|██████████| 5/5 [00:05<00:00,  1.06s/it]"
     ]
    },
    {
     "name": "stdout",
     "output_type": "stream",
     "text": [
      "All 5 metric requests are successfully computed.\n",
      "Evaluation Took:5.2864889159973245 seconds\n"
     ]
    },
    {
     "name": "stderr",
     "output_type": "stream",
     "text": [
      "\n"
     ]
    },
    {
     "data": {
      "text/html": [
       "\n",
       "        \n",
       "    <link rel=\"stylesheet\" href=\"https://fonts.googleapis.com/icon?family=Material+Icons\">\n",
       "    <style>\n",
       "      .view-vertex-resource,\n",
       "      .view-vertex-resource:hover,\n",
       "      .view-vertex-resource:visited {\n",
       "        position: relative;\n",
       "        display: inline-flex;\n",
       "        flex-direction: row;\n",
       "        height: 32px;\n",
       "        padding: 0 12px;\n",
       "          margin: 4px 18px;\n",
       "        gap: 4px;\n",
       "        border-radius: 4px;\n",
       "\n",
       "        align-items: center;\n",
       "        justify-content: center;\n",
       "        background-color: rgb(255, 255, 255);\n",
       "        color: rgb(51, 103, 214);\n",
       "\n",
       "        font-family: Roboto,\"Helvetica Neue\",sans-serif;\n",
       "        font-size: 13px;\n",
       "        font-weight: 500;\n",
       "        text-transform: uppercase;\n",
       "        text-decoration: none !important;\n",
       "\n",
       "        transition: box-shadow 280ms cubic-bezier(0.4, 0, 0.2, 1) 0s;\n",
       "        box-shadow: 0px 3px 1px -2px rgba(0,0,0,0.2), 0px 2px 2px 0px rgba(0,0,0,0.14), 0px 1px 5px 0px rgba(0,0,0,0.12);\n",
       "      }\n",
       "      .view-vertex-resource:active {\n",
       "        box-shadow: 0px 5px 5px -3px rgba(0,0,0,0.2),0px 8px 10px 1px rgba(0,0,0,0.14),0px 3px 14px 2px rgba(0,0,0,0.12);\n",
       "      }\n",
       "      .view-vertex-resource:active .view-vertex-ripple::before {\n",
       "        position: absolute;\n",
       "        top: 0;\n",
       "        bottom: 0;\n",
       "        left: 0;\n",
       "        right: 0;\n",
       "        border-radius: 4px;\n",
       "        pointer-events: none;\n",
       "\n",
       "        content: '';\n",
       "        background-color: rgb(51, 103, 214);\n",
       "        opacity: 0.12;\n",
       "      }\n",
       "      .view-vertex-icon {\n",
       "        font-size: 18px;\n",
       "      }\n",
       "    </style>\n",
       "  \n",
       "        <a class=\"view-vertex-resource\" id=\"view-vertex-resource-45778bc4-1953-480c-9e45-49e7bfcd5678\" href=\"#view-view-vertex-resource-45778bc4-1953-480c-9e45-49e7bfcd5678\">\n",
       "          <span class=\"material-icons view-vertex-icon\">bar_chart</span>\n",
       "          <span>View evaluation results</span>\n",
       "        </a>\n",
       "        \n",
       "        <script>\n",
       "          (function () {\n",
       "            const link = document.getElementById('view-vertex-resource-45778bc4-1953-480c-9e45-49e7bfcd5678');\n",
       "            link.addEventListener('click', (e) => {\n",
       "              if (window.google?.colab?.openUrl) {\n",
       "                window.google.colab.openUrl('https://cloud.google.com/vertex-ai/generative-ai/docs/models/view-evaluation');\n",
       "              } else {\n",
       "                window.open('https://cloud.google.com/vertex-ai/generative-ai/docs/models/view-evaluation', '_blank');\n",
       "              }\n",
       "              e.stopPropagation();\n",
       "              e.preventDefault();\n",
       "            });\n",
       "          })();\n",
       "        </script>\n",
       "    "
      ],
      "text/plain": [
       "<IPython.core.display.HTML object>"
      ]
     },
     "metadata": {},
     "output_type": "display_data"
    }
   ],
   "source": [
    "metric_name = \"pairwise_text_quality\"\n",
    "\n",
    "EXPERIMENT_NAME = \"model-selection\"\n",
    "\n",
    "pairwise_text_quality_result = EvalTask(\n",
    "    dataset=eval_dataset,\n",
    "    metrics=[\n",
    "        PairwiseMetric(\n",
    "            metric=metric_name,\n",
    "            metric_prompt_template=MetricPromptTemplateExamples.get_prompt_template(\n",
    "                metric_name\n",
    "            ),\n",
    "            # Baseline model for pairwise comparison\n",
    "            baseline_model=GenerativeModel(\n",
    "                \"gemini-2.0-flash\",\n",
    "            ),\n",
    "        ),\n",
    "    ],\n",
    "    experiment=EXPERIMENT_NAME,\n",
    ").evaluate(\n",
    "    # Specify candidate model for pairwise comparison\n",
    "    model=GenerativeModel(\n",
    "        \"gemini-2.5-flash-preview-04-17\"\n",
    "    ),\n",
    "    prompt_template=prompt_template,\n",
    ")"
   ]
  },
  {
   "cell_type": "code",
   "execution_count": 26,
   "id": "78a1a486",
   "metadata": {},
   "outputs": [
    {
     "data": {
      "text/markdown": [
       "## Side-by-side Eval Results"
      ],
      "text/plain": [
       "<IPython.core.display.Markdown object>"
      ]
     },
     "metadata": {},
     "output_type": "display_data"
    },
    {
     "data": {
      "text/markdown": [
       "### Summary Metrics"
      ],
      "text/plain": [
       "<IPython.core.display.Markdown object>"
      ]
     },
     "metadata": {},
     "output_type": "display_data"
    },
    {
     "data": {
      "text/html": [
       "<div>\n",
       "<style scoped>\n",
       "    .dataframe tbody tr th:only-of-type {\n",
       "        vertical-align: middle;\n",
       "    }\n",
       "\n",
       "    .dataframe tbody tr th {\n",
       "        vertical-align: top;\n",
       "    }\n",
       "\n",
       "    .dataframe thead th {\n",
       "        text-align: right;\n",
       "    }\n",
       "</style>\n",
       "<table border=\"1\" class=\"dataframe\">\n",
       "  <thead>\n",
       "    <tr style=\"text-align: right;\">\n",
       "      <th></th>\n",
       "      <th>row_count</th>\n",
       "      <th>pairwise_text_quality/candidate_model_win_rate</th>\n",
       "      <th>pairwise_text_quality/baseline_model_win_rate</th>\n",
       "    </tr>\n",
       "  </thead>\n",
       "  <tbody>\n",
       "    <tr>\n",
       "      <th>0</th>\n",
       "      <td>5.0</td>\n",
       "      <td>0.8</td>\n",
       "      <td>0.2</td>\n",
       "    </tr>\n",
       "  </tbody>\n",
       "</table>\n",
       "</div>"
      ],
      "text/plain": [
       "   row_count  pairwise_text_quality/candidate_model_win_rate  \\\n",
       "0        5.0                                             0.8   \n",
       "\n",
       "   pairwise_text_quality/baseline_model_win_rate  \n",
       "0                                            0.2  "
      ]
     },
     "metadata": {},
     "output_type": "display_data"
    },
    {
     "data": {
      "text/markdown": [
       "### Row-based Metrics"
      ],
      "text/plain": [
       "<IPython.core.display.Markdown object>"
      ]
     },
     "metadata": {},
     "output_type": "display_data"
    },
    {
     "data": {
      "text/html": [
       "<div>\n",
       "<style scoped>\n",
       "    .dataframe tbody tr th:only-of-type {\n",
       "        vertical-align: middle;\n",
       "    }\n",
       "\n",
       "    .dataframe tbody tr th {\n",
       "        vertical-align: top;\n",
       "    }\n",
       "\n",
       "    .dataframe thead th {\n",
       "        text-align: right;\n",
       "    }\n",
       "</style>\n",
       "<table border=\"1\" class=\"dataframe\">\n",
       "  <thead>\n",
       "    <tr style=\"text-align: right;\">\n",
       "      <th></th>\n",
       "      <th>context</th>\n",
       "      <th>instruction</th>\n",
       "      <th>reference</th>\n",
       "      <th>prompt</th>\n",
       "      <th>response</th>\n",
       "      <th>baseline_model_response</th>\n",
       "      <th>pairwise_text_quality/explanation</th>\n",
       "      <th>pairwise_text_quality/pairwise_choice</th>\n",
       "    </tr>\n",
       "  </thead>\n",
       "  <tbody>\n",
       "    <tr>\n",
       "      <th>0</th>\n",
       "      <td>To make a classic spaghetti carbonara, start b...</td>\n",
       "      <td>Summarize the following article</td>\n",
       "      <td>The process of making spaghetti carbonara invo...</td>\n",
       "      <td>Summarize the following article. Article: To m...</td>\n",
       "      <td>Here's a summary of the article:\\n\\nThis artic...</td>\n",
       "      <td>Classic spaghetti carbonara involves cooking p...</td>\n",
       "      <td>Both responses followed instructions. CANDIDAT...</td>\n",
       "      <td>CANDIDATE</td>\n",
       "    </tr>\n",
       "    <tr>\n",
       "      <th>1</th>\n",
       "      <td>Preparing a perfect risotto requires patience ...</td>\n",
       "      <td>Summarize the following article</td>\n",
       "      <td>Preparing risotto entails sautéing onions and ...</td>\n",
       "      <td>Summarize the following article. Article: Prep...</td>\n",
       "      <td>This article provides instructions for making ...</td>\n",
       "      <td>To make perfect risotto, slowly cook onions an...</td>\n",
       "      <td>BASELINE response includes the main point of t...</td>\n",
       "      <td>BASELINE</td>\n",
       "    </tr>\n",
       "    <tr>\n",
       "      <th>2</th>\n",
       "      <td>For a flavorful grilled steak, start by choosi...</td>\n",
       "      <td>Summarize the following article</td>\n",
       "      <td>Grilling a flavorful steak involves seasoning ...</td>\n",
       "      <td>Summarize the following article. Article: For ...</td>\n",
       "      <td>To grill a flavorful steak, choose a well-marb...</td>\n",
       "      <td>To grill a delicious steak, choose a well-marb...</td>\n",
       "      <td>Both responses follow the instructions of the ...</td>\n",
       "      <td>CANDIDATE</td>\n",
       "    </tr>\n",
       "    <tr>\n",
       "      <th>3</th>\n",
       "      <td>Creating a creamy homemade tomato soup is a co...</td>\n",
       "      <td>Summarize the following article</td>\n",
       "      <td>Creating homemade tomato soup includes sautéin...</td>\n",
       "      <td>Summarize the following article. Article: Crea...</td>\n",
       "      <td>This article provides a simple recipe for maki...</td>\n",
       "      <td>Homemade tomato soup is easily made by sautéin...</td>\n",
       "      <td>CANDIDATE response is more concise and directl...</td>\n",
       "      <td>CANDIDATE</td>\n",
       "    </tr>\n",
       "    <tr>\n",
       "      <th>4</th>\n",
       "      <td>To bake a decadent chocolate cake from scratch...</td>\n",
       "      <td>Summarize the following article</td>\n",
       "      <td>Baking a decadent chocolate cake requires crea...</td>\n",
       "      <td>Summarize the following article. Article: To b...</td>\n",
       "      <td>To bake a chocolate cake from scratch, first p...</td>\n",
       "      <td>To bake a homemade chocolate cake, preheat the...</td>\n",
       "      <td>CANDIDATE response is better because it is mor...</td>\n",
       "      <td>CANDIDATE</td>\n",
       "    </tr>\n",
       "  </tbody>\n",
       "</table>\n",
       "</div>"
      ],
      "text/plain": [
       "                                             context  \\\n",
       "0  To make a classic spaghetti carbonara, start b...   \n",
       "1  Preparing a perfect risotto requires patience ...   \n",
       "2  For a flavorful grilled steak, start by choosi...   \n",
       "3  Creating a creamy homemade tomato soup is a co...   \n",
       "4  To bake a decadent chocolate cake from scratch...   \n",
       "\n",
       "                       instruction  \\\n",
       "0  Summarize the following article   \n",
       "1  Summarize the following article   \n",
       "2  Summarize the following article   \n",
       "3  Summarize the following article   \n",
       "4  Summarize the following article   \n",
       "\n",
       "                                           reference  \\\n",
       "0  The process of making spaghetti carbonara invo...   \n",
       "1  Preparing risotto entails sautéing onions and ...   \n",
       "2  Grilling a flavorful steak involves seasoning ...   \n",
       "3  Creating homemade tomato soup includes sautéin...   \n",
       "4  Baking a decadent chocolate cake requires crea...   \n",
       "\n",
       "                                              prompt  \\\n",
       "0  Summarize the following article. Article: To m...   \n",
       "1  Summarize the following article. Article: Prep...   \n",
       "2  Summarize the following article. Article: For ...   \n",
       "3  Summarize the following article. Article: Crea...   \n",
       "4  Summarize the following article. Article: To b...   \n",
       "\n",
       "                                            response  \\\n",
       "0  Here's a summary of the article:\\n\\nThis artic...   \n",
       "1  This article provides instructions for making ...   \n",
       "2  To grill a flavorful steak, choose a well-marb...   \n",
       "3  This article provides a simple recipe for maki...   \n",
       "4  To bake a chocolate cake from scratch, first p...   \n",
       "\n",
       "                             baseline_model_response  \\\n",
       "0  Classic spaghetti carbonara involves cooking p...   \n",
       "1  To make perfect risotto, slowly cook onions an...   \n",
       "2  To grill a delicious steak, choose a well-marb...   \n",
       "3  Homemade tomato soup is easily made by sautéin...   \n",
       "4  To bake a homemade chocolate cake, preheat the...   \n",
       "\n",
       "                   pairwise_text_quality/explanation  \\\n",
       "0  Both responses followed instructions. CANDIDAT...   \n",
       "1  BASELINE response includes the main point of t...   \n",
       "2  Both responses follow the instructions of the ...   \n",
       "3  CANDIDATE response is more concise and directl...   \n",
       "4  CANDIDATE response is better because it is mor...   \n",
       "\n",
       "  pairwise_text_quality/pairwise_choice  \n",
       "0                             CANDIDATE  \n",
       "1                              BASELINE  \n",
       "2                             CANDIDATE  \n",
       "3                             CANDIDATE  \n",
       "4                             CANDIDATE  "
      ]
     },
     "metadata": {},
     "output_type": "display_data"
    }
   ],
   "source": [
    "notebook_utils.display_eval_result(\n",
    "    title=\"Side-by-side Eval Results\", eval_result=pairwise_text_quality_result\n",
    ")"
   ]
  },
  {
   "cell_type": "code",
   "execution_count": 33,
   "id": "414f16d5",
   "metadata": {},
   "outputs": [
    {
     "data": {
      "text/html": [
       "<div style='white-space: pre-wrap; width: 1500px; overflow-x: auto;'><h4>prompt:</h4>Summarize the following article. Article: To bake a decadent chocolate cake from scratch, start by preheating your oven to 350°F (175°C) and greasing and flouring two 9-inch round cake pans. In a large mixing bowl, cream together softened butter and granulated sugar until light and fluffy. Beat in eggs one at a time, making sure each egg is fully incorporated before adding the next. In a separate bowl, sift together all-purpose flour, cocoa powder, baking powder, baking soda, and salt. Divide the batter evenly between the prepared cake pans and bake for 25-30 minutes, or until a toothpick inserted into the center comes out clean.. Summary:</div>"
      ],
      "text/plain": [
       "<IPython.core.display.HTML object>"
      ]
     },
     "metadata": {},
     "output_type": "display_data"
    },
    {
     "data": {
      "text/html": [
       "<div style='white-space: pre-wrap; width: 1500px; overflow-x: auto;'><h4>response:</h4>To bake a chocolate cake from scratch, first preheat your oven to 350°F (175°C) and prepare two 9-inch round pans. Then, cream butter and sugar, beat in eggs, and sift together dry ingredients (flour, cocoa, baking powder, baking soda, salt). Divide the resulting batter between the pans and bake for 25-30 minutes until a toothpick comes out clean.</div>"
      ],
      "text/plain": [
       "<IPython.core.display.HTML object>"
      ]
     },
     "metadata": {},
     "output_type": "display_data"
    },
    {
     "data": {
      "text/html": [
       "<div style='white-space: pre-wrap; width: 1500px; overflow-x: auto;'><h4>baseline_model_response:</h4>To bake a homemade chocolate cake, preheat the oven to 350°F (175°C) and prepare two 9-inch cake pans. Cream butter and sugar, then beat in eggs. Sift together dry ingredients and gradually add to the wet ingredients. Divide batter into pans and bake for 25-30 minutes until a toothpick comes out clean.\n",
       "</div>"
      ],
      "text/plain": [
       "<IPython.core.display.HTML object>"
      ]
     },
     "metadata": {},
     "output_type": "display_data"
    },
    {
     "data": {
      "text/html": [
       "<div style='white-space: pre-wrap; width: 1500px; overflow-x: auto;'><h4>pairwise_text_quality/explanation:</h4>CANDIDATE response is better because it is more thorough and contains more detail than BASELINE response, and still follows all instructions.</div>"
      ],
      "text/plain": [
       "<IPython.core.display.HTML object>"
      ]
     },
     "metadata": {},
     "output_type": "display_data"
    },
    {
     "data": {
      "text/html": [
       "<div style='white-space: pre-wrap; width: 1500px; overflow-x: auto;'><h4>pairwise_text_quality/pairwise_choice:</h4>CANDIDATE</div>"
      ],
      "text/plain": [
       "<IPython.core.display.HTML object>"
      ]
     },
     "metadata": {},
     "output_type": "display_data"
    },
    {
     "data": {
      "text/html": [
       "<hr>"
      ],
      "text/plain": [
       "<IPython.core.display.HTML object>"
      ]
     },
     "metadata": {},
     "output_type": "display_data"
    }
   ],
   "source": [
    "\n",
    "notebook_utils.display_explanations(\n",
    "    pairwise_text_quality_result, metrics=[metric_name], num=1\n",
    ")"
   ]
  },
  {
   "cell_type": "code",
   "execution_count": 32,
   "id": "3854d3d4",
   "metadata": {},
   "outputs": [
    {
     "name": "stdout",
     "output_type": "stream",
     "text": [
      "Win rate: Autorater prefers Candidate Model over Baseline Model 80% of time.\n"
     ]
    }
   ],
   "source": [
    "candidate_model_win_rate = round(\n",
    "    pairwise_text_quality_result.summary_metrics[\n",
    "        f\"{metric_name}/candidate_model_win_rate\"\n",
    "    ]\n",
    "    * 100\n",
    ")\n",
    "print(\n",
    "    f\"Win rate: Autorater prefers Candidate Model over Baseline Model {candidate_model_win_rate}% of time.\"\n",
    ")\n"
   ]
  }
 ],
 "metadata": {
  "kernelspec": {
   "display_name": ".venv",
   "language": "python",
   "name": "python3"
  },
  "language_info": {
   "codemirror_mode": {
    "name": "ipython",
    "version": 3
   },
   "file_extension": ".py",
   "mimetype": "text/x-python",
   "name": "python",
   "nbconvert_exporter": "python",
   "pygments_lexer": "ipython3",
   "version": "3.13.3"
  }
 },
 "nbformat": 4,
 "nbformat_minor": 5
}
